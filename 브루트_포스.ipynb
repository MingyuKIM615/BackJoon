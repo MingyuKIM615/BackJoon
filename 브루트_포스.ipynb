{
  "nbformat": 4,
  "nbformat_minor": 0,
  "metadata": {
    "colab": {
      "name": "브루트 포스.ipynb",
      "provenance": [],
      "collapsed_sections": [],
      "authorship_tag": "ABX9TyPA/RfT588+ft8mmnGpBNCS",
      "include_colab_link": true
    },
    "kernelspec": {
      "name": "python3",
      "display_name": "Python 3"
    },
    "language_info": {
      "name": "python"
    }
  },
  "cells": [
    {
      "cell_type": "markdown",
      "metadata": {
        "id": "view-in-github",
        "colab_type": "text"
      },
      "source": [
        "<a href=\"https://colab.research.google.com/github/MingyuKIM615/BaekJoon/blob/master/%EB%B8%8C%EB%A3%A8%ED%8A%B8_%ED%8F%AC%EC%8A%A4.ipynb\" target=\"_parent\"><img src=\"https://colab.research.google.com/assets/colab-badge.svg\" alt=\"Open In Colab\"/></a>"
      ]
    },
    {
      "cell_type": "markdown",
      "source": [
        "# 블랙잭(2798)"
      ],
      "metadata": {
        "id": "X1_UbrSKDktO"
      }
    },
    {
      "cell_type": "code",
      "execution_count": 16,
      "metadata": {
        "colab": {
          "base_uri": "https://localhost:8080/"
        },
        "id": "U-Dum24gDgGQ",
        "outputId": "fb8c71b1-cd74-447f-904e-b52e2961069f"
      },
      "outputs": [
        {
          "output_type": "stream",
          "name": "stdout",
          "text": [
            "10 500\n",
            "93 181 245 214 315 36 295 185 138 216 \n",
            "497\n"
          ]
        }
      ],
      "source": [
        "N, M = map(int, input().split())\n",
        "list_number = input().split()\n",
        "\n",
        "def bJ(list_num):\n",
        "  list_sum = []\n",
        "  len_num = len(list_num)\n",
        "  sum = 0\n",
        "  for i in range(len_num-2):\n",
        "    for j in range(i+1, len_num-1):\n",
        "      for k in range(j+1, len_num):\n",
        "        sum = int(list_num[i]) + int(list_num[j]) + int(list_num[k])\n",
        "        if sum > M:\n",
        "          continue\n",
        "        else:\n",
        "          list_sum.append(sum)\n",
        "  return max(list_sum)\n",
        "\n",
        "  \n",
        "print(bJ(list_number))\n",
        "\n"
      ]
    },
    {
      "cell_type": "code",
      "source": [
        ""
      ],
      "metadata": {
        "id": "1GRhdetXEJer"
      },
      "execution_count": null,
      "outputs": []
    }
  ]
}