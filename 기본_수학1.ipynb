{
  "nbformat": 4,
  "nbformat_minor": 0,
  "metadata": {
    "colab": {
      "name": "기본 수학1.ipynb",
      "provenance": [],
      "collapsed_sections": [],
      "authorship_tag": "ABX9TyPDNt1yqz8NXtEMY0kl17mb",
      "include_colab_link": true
    },
    "kernelspec": {
      "name": "python3",
      "display_name": "Python 3"
    },
    "language_info": {
      "name": "python"
    }
  },
  "cells": [
    {
      "cell_type": "markdown",
      "metadata": {
        "id": "view-in-github",
        "colab_type": "text"
      },
      "source": [
        "<a href=\"https://colab.research.google.com/github/MingyuKIM615/BaekJoon/blob/master/%EA%B8%B0%EB%B3%B8_%EC%88%98%ED%95%991.ipynb\" target=\"_parent\"><img src=\"https://colab.research.google.com/assets/colab-badge.svg\" alt=\"Open In Colab\"/></a>"
      ]
    },
    {
      "cell_type": "markdown",
      "source": [
        "# 손익분기점(1712)"
      ],
      "metadata": {
        "id": "uciufPAWsNNN"
      }
    },
    {
      "cell_type": "code",
      "execution_count": 11,
      "metadata": {
        "colab": {
          "base_uri": "https://localhost:8080/"
        },
        "id": "EzNbyoahsJrZ",
        "outputId": "e4d1d40d-6624-4e55-a600-e56f3105bb7f"
      },
      "outputs": [
        {
          "output_type": "stream",
          "name": "stdout",
          "text": [
            "1000 70 170\n",
            "11\n"
          ]
        }
      ],
      "source": [
        "A, B, C = map(int, input().split())\n",
        "\n",
        "if B >= C:\n",
        "  print(-1)\n",
        "else:\n",
        "  cnt = int(A / (C-B))\n",
        "  print(cnt)"
      ]
    },
    {
      "cell_type": "markdown",
      "source": [
        "# 벌집(2292)"
      ],
      "metadata": {
        "id": "w6jTElqbujmF"
      }
    },
    {
      "cell_type": "code",
      "source": [
        "N = int(input())\n",
        "i = 0\n",
        "j = 1\n",
        "while True:\n",
        "  j += 6*i\n",
        "  if N <= j:\n",
        "    print(i+1)\n",
        "    break\n",
        "  i+=1\n"
      ],
      "metadata": {
        "colab": {
          "base_uri": "https://localhost:8080/"
        },
        "id": "V4TSV2wgsxIl",
        "outputId": "31ee67ce-c5a0-435f-ad65-c4b14b1bea1f"
      },
      "execution_count": 18,
      "outputs": [
        {
          "output_type": "stream",
          "name": "stdout",
          "text": [
            "1\n",
            "1\n"
          ]
        }
      ]
    },
    {
      "cell_type": "code",
      "source": [
        ""
      ],
      "metadata": {
        "id": "ha4Szci9vPqT"
      },
      "execution_count": null,
      "outputs": []
    }
  ]
}