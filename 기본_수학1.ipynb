{
  "nbformat": 4,
  "nbformat_minor": 0,
  "metadata": {
    "colab": {
      "name": "기본 수학1.ipynb",
      "provenance": [],
      "collapsed_sections": [],
      "authorship_tag": "ABX9TyN2GZi3o6TGp9dEUHg3DQAL",
      "include_colab_link": true
    },
    "kernelspec": {
      "name": "python3",
      "display_name": "Python 3"
    },
    "language_info": {
      "name": "python"
    }
  },
  "cells": [
    {
      "cell_type": "markdown",
      "metadata": {
        "id": "view-in-github",
        "colab_type": "text"
      },
      "source": [
        "<a href=\"https://colab.research.google.com/github/MingyuKIM615/BaekJoon/blob/master/%EA%B8%B0%EB%B3%B8_%EC%88%98%ED%95%991.ipynb\" target=\"_parent\"><img src=\"https://colab.research.google.com/assets/colab-badge.svg\" alt=\"Open In Colab\"/></a>"
      ]
    },
    {
      "cell_type": "markdown",
      "source": [
        "# 손익분기점(1712)"
      ],
      "metadata": {
        "id": "uciufPAWsNNN"
      }
    },
    {
      "cell_type": "code",
      "execution_count": null,
      "metadata": {
        "colab": {
          "base_uri": "https://localhost:8080/"
        },
        "id": "EzNbyoahsJrZ",
        "outputId": "e4d1d40d-6624-4e55-a600-e56f3105bb7f"
      },
      "outputs": [
        {
          "output_type": "stream",
          "name": "stdout",
          "text": [
            "1000 70 170\n",
            "11\n"
          ]
        }
      ],
      "source": [
        "A, B, C = map(int, input().split())\n",
        "\n",
        "if B >= C:\n",
        "  print(-1)\n",
        "else:\n",
        "  cnt = int(A / (C-B))\n",
        "  print(cnt)"
      ]
    },
    {
      "cell_type": "markdown",
      "source": [
        "# 벌집(2292)"
      ],
      "metadata": {
        "id": "w6jTElqbujmF"
      }
    },
    {
      "cell_type": "code",
      "source": [
        "N = int(input())\n",
        "i = 0\n",
        "j = 1\n",
        "while True:\n",
        "  j += 6*i\n",
        "  if N <= j:\n",
        "    print(i+1)\n",
        "    break\n",
        "  i+=1\n"
      ],
      "metadata": {
        "colab": {
          "base_uri": "https://localhost:8080/"
        },
        "id": "V4TSV2wgsxIl",
        "outputId": "31ee67ce-c5a0-435f-ad65-c4b14b1bea1f"
      },
      "execution_count": null,
      "outputs": [
        {
          "output_type": "stream",
          "name": "stdout",
          "text": [
            "1\n",
            "1\n"
          ]
        }
      ]
    },
    {
      "cell_type": "markdown",
      "source": [
        "# 달팽이는 올라가고 싶다(2869)"
      ],
      "metadata": {
        "id": "aqiT-pusHtfB"
      }
    },
    {
      "cell_type": "code",
      "source": [
        "import math\n",
        "A, B, C = map(int, input().split())\n",
        "\n",
        "day = math.ceil((C - A) / (A - B)) + 1\n",
        "\n",
        "print(day)"
      ],
      "metadata": {
        "id": "ha4Szci9vPqT",
        "colab": {
          "base_uri": "https://localhost:8080/"
        },
        "outputId": "c1e10c7e-f299-452a-a3a0-967392416738"
      },
      "execution_count": 8,
      "outputs": [
        {
          "output_type": "stream",
          "name": "stdout",
          "text": [
            "100 99 1000000000\n",
            "999999901\n"
          ]
        }
      ]
    },
    {
      "cell_type": "markdown",
      "source": [
        "# ACM 호텔(10250)"
      ],
      "metadata": {
        "id": "Vj42oJm2Lv8w"
      }
    },
    {
      "cell_type": "code",
      "source": [
        "T = int(input())\n",
        "\n",
        "for i in range(T):\n",
        "  H, W, N = map(int, input().split())\n",
        "  k = 0\n",
        "  l = 0\n",
        "  if N % H == 0:\n",
        "    l = H\n",
        "    k = int(N / H)\n",
        "  else:\n",
        "    l = N % H\n",
        "    k = int(N / H) + 1\n",
        "  roomNumber = l * 100 + k\n",
        "  print(roomNumber)"
      ],
      "metadata": {
        "colab": {
          "base_uri": "https://localhost:8080/"
        },
        "id": "Q2TdACINKsIz",
        "outputId": "786b4973-41ca-4cc6-bba0-429b7283e3a7"
      },
      "execution_count": 24,
      "outputs": [
        {
          "output_type": "stream",
          "name": "stdout",
          "text": [
            "2\n",
            "6 12 12\n",
            "602\n",
            "6 12 13\n",
            "103\n"
          ]
        }
      ]
    },
    {
      "cell_type": "code",
      "source": [
        ""
      ],
      "metadata": {
        "id": "D8zjq8z6N4lt"
      },
      "execution_count": 14,
      "outputs": []
    }
  ]
}