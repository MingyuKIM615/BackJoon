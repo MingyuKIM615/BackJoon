{
  "nbformat": 4,
  "nbformat_minor": 0,
  "metadata": {
    "colab": {
      "name": "재귀.ipynb",
      "provenance": [],
      "authorship_tag": "ABX9TyMq4POul+emk2XOn3R9j3IC",
      "include_colab_link": true
    },
    "kernelspec": {
      "name": "python3",
      "display_name": "Python 3"
    },
    "language_info": {
      "name": "python"
    }
  },
  "cells": [
    {
      "cell_type": "markdown",
      "metadata": {
        "id": "view-in-github",
        "colab_type": "text"
      },
      "source": [
        "<a href=\"https://colab.research.google.com/github/MingyuKIM615/BaekJoon/blob/master/%EC%9E%AC%EA%B7%80.ipynb\" target=\"_parent\"><img src=\"https://colab.research.google.com/assets/colab-badge.svg\" alt=\"Open In Colab\"/></a>"
      ]
    },
    {
      "cell_type": "markdown",
      "source": [
        "# 팩토리얼(10872)"
      ],
      "metadata": {
        "id": "vHmW-uxmbO__"
      }
    },
    {
      "cell_type": "code",
      "execution_count": 2,
      "metadata": {
        "colab": {
          "base_uri": "https://localhost:8080/"
        },
        "id": "ITD36wXmbOY0",
        "outputId": "e02b7fec-2355-4517-9cc1-ca541375da53"
      },
      "outputs": [
        {
          "output_type": "stream",
          "name": "stdout",
          "text": [
            "0\n",
            "1\n"
          ]
        }
      ],
      "source": [
        "N = int(input())\n",
        "\n",
        "p = 1\n",
        "for i in range(1, N+1):\n",
        "  p *=i\n",
        "print(p)"
      ]
    },
    {
      "cell_type": "markdown",
      "source": [
        "# 피보나치 수 5(10870)"
      ],
      "metadata": {
        "id": "cLgw1BnulVpr"
      }
    },
    {
      "cell_type": "code",
      "source": [
        "n = int(input())\n",
        "\n",
        "list_p = [0, 1]\n",
        "\n",
        "if n >=2:\n",
        "  for i in range(2, n+1):\n",
        "    num = list_p[i-2] + list_p[i-1]\n",
        "    list_p.append(num)\n",
        "  print(list_p[n])\n",
        "else:\n",
        "  print(list_p[n])"
      ],
      "metadata": {
        "colab": {
          "base_uri": "https://localhost:8080/"
        },
        "id": "QKFhqFyVbefV",
        "outputId": "538816bf-f5ed-4d76-8c32-21a7c0ade151"
      },
      "execution_count": 3,
      "outputs": [
        {
          "output_type": "stream",
          "name": "stdout",
          "text": [
            "10\n",
            "55\n"
          ]
        }
      ]
    },
    {
      "cell_type": "code",
      "source": [
        ""
      ],
      "metadata": {
        "id": "kXyam4MxmUur"
      },
      "execution_count": null,
      "outputs": []
    }
  ]
}