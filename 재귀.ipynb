{
  "nbformat": 4,
  "nbformat_minor": 0,
  "metadata": {
    "colab": {
      "name": "재귀.ipynb",
      "provenance": [],
      "collapsed_sections": [],
      "authorship_tag": "ABX9TyOtgn5nP3oJn5iCU8pI9kSF",
      "include_colab_link": true
    },
    "kernelspec": {
      "name": "python3",
      "display_name": "Python 3"
    },
    "language_info": {
      "name": "python"
    }
  },
  "cells": [
    {
      "cell_type": "markdown",
      "metadata": {
        "id": "view-in-github",
        "colab_type": "text"
      },
      "source": [
        "<a href=\"https://colab.research.google.com/github/MingyuKIM615/BaekJoon/blob/master/%EC%9E%AC%EA%B7%80.ipynb\" target=\"_parent\"><img src=\"https://colab.research.google.com/assets/colab-badge.svg\" alt=\"Open In Colab\"/></a>"
      ]
    },
    {
      "cell_type": "markdown",
      "source": [
        "# 팩토리얼(10872)"
      ],
      "metadata": {
        "id": "vHmW-uxmbO__"
      }
    },
    {
      "cell_type": "code",
      "execution_count": null,
      "metadata": {
        "colab": {
          "base_uri": "https://localhost:8080/"
        },
        "id": "ITD36wXmbOY0",
        "outputId": "e02b7fec-2355-4517-9cc1-ca541375da53"
      },
      "outputs": [
        {
          "output_type": "stream",
          "name": "stdout",
          "text": [
            "0\n",
            "1\n"
          ]
        }
      ],
      "source": [
        "N = int(input())\n",
        "\n",
        "p = 1\n",
        "for i in range(1, N+1):\n",
        "  p *=i\n",
        "print(p)"
      ]
    },
    {
      "cell_type": "markdown",
      "source": [
        "# 피보나치 수 5(10870)"
      ],
      "metadata": {
        "id": "cLgw1BnulVpr"
      }
    },
    {
      "cell_type": "code",
      "source": [
        "n = int(input())\n",
        "\n",
        "list_p = [0, 1]\n",
        "\n",
        "if n >=2:\n",
        "  for i in range(2, n+1):\n",
        "    num = list_p[i-2] + list_p[i-1]\n",
        "    list_p.append(num)\n",
        "  print(list_p[n])\n",
        "else:\n",
        "  print(list_p[n])"
      ],
      "metadata": {
        "colab": {
          "base_uri": "https://localhost:8080/"
        },
        "id": "QKFhqFyVbefV",
        "outputId": "538816bf-f5ed-4d76-8c32-21a7c0ade151"
      },
      "execution_count": null,
      "outputs": [
        {
          "output_type": "stream",
          "name": "stdout",
          "text": [
            "10\n",
            "55\n"
          ]
        }
      ]
    },
    {
      "cell_type": "markdown",
      "source": [
        "# 재귀함수가 뭔가요?(17478)"
      ],
      "metadata": {
        "id": "sIRMM9nmujZv"
      }
    },
    {
      "cell_type": "code",
      "source": [
        "N = int(input())\n",
        "\n",
        "\n",
        "print('어느 한 컴퓨터공학과 학생이 유명한 교수님을 찾아가 물었다.')\n",
        "bar = ''\n",
        "for i in range(N+1):\n",
        "  print(bar + '\"재귀함수가 뭔가요?\"')\n",
        "  if i == N:\n",
        "    print(bar + '\"재귀함수는 자기 자신을 호출하는 함수라네\"')\n",
        "  else:\n",
        "    print(bar + '\"잘 들어보게. 옛날옛날 한 산 꼭대기에 이세상 모든 지식을 통달한 선인이 있었어.')\n",
        "    print(bar + '마을 사람들은 모두 그 선인에게 수많은 질문을 했고, 모두 지혜롭게 대답해 주었지.')\n",
        "    print(bar + '그의 답은 대부분 옳았다고 하네. 그런데 어느 날, 그 선인에게 한 선비가 찾아와서 물었어.\"')\n",
        "  bar +='____'\n",
        "\n",
        "for i in range(N, 0, -1):\n",
        "  print(bar[0:4*i] + '라고 답변하였지.')\n",
        "  \n",
        "\n",
        "print('라고 답변하였지.')"
      ],
      "metadata": {
        "id": "kXyam4MxmUur",
        "colab": {
          "base_uri": "https://localhost:8080/"
        },
        "outputId": "3a036682-6ae0-426c-ec09-b58525978b0b"
      },
      "execution_count": 11,
      "outputs": [
        {
          "output_type": "stream",
          "name": "stdout",
          "text": [
            "2\n",
            "어느 한 컴퓨터공학과 학생이 유명한 교수님을 찾아가 물었다.\n",
            "\"재귀함수가 뭔가요?\"\n",
            "\"잘 들어보게. 옛날옛날 한 산 꼭대기에 이세상 모든 지식을 통달한 선인이 있었어.\n",
            "마을 사람들은 모두 그 선인에게 수많은 질문을 했고, 모두 지혜롭게 대답해 주었지.\n",
            "그의 답은 대부분 옳았다고 하네. 그런데 어느 날, 그 선인에게 한 선비가 찾아와서 물었어.\"\n",
            "____\"재귀함수가 뭔가요?\"\n",
            "____\"잘 들어보게. 옛날옛날 한 산 꼭대기에 이세상 모든 지식을 통달한 선인이 있었어.\n",
            "____마을 사람들은 모두 그 선인에게 수많은 질문을 했고, 모두 지혜롭게 대답해 주었지.\n",
            "____그의 답은 대부분 옳았다고 하네. 그런데 어느 날, 그 선인에게 한 선비가 찾아와서 물었어.\"\n",
            "________\"재귀함수가 뭔가요?\"\n",
            "________\"재귀함수는 자기 자신을 호출하는 함수라네\"\n",
            "________라고 답변하였지.\n",
            "____라고 답변하였지.\n",
            "라고 답변하였지.\n"
          ]
        }
      ]
    },
    {
      "cell_type": "code",
      "source": [
        ""
      ],
      "metadata": {
        "id": "HMkNnw0hvBAu"
      },
      "execution_count": null,
      "outputs": []
    }
  ]
}