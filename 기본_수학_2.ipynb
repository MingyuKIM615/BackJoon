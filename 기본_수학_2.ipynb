{
  "nbformat": 4,
  "nbformat_minor": 0,
  "metadata": {
    "colab": {
      "name": "기본 수학 2.ipynb",
      "provenance": [],
      "collapsed_sections": [],
      "authorship_tag": "ABX9TyOpx6F5cy3IIz43rACJagWl",
      "include_colab_link": true
    },
    "kernelspec": {
      "name": "python3",
      "display_name": "Python 3"
    },
    "language_info": {
      "name": "python"
    }
  },
  "cells": [
    {
      "cell_type": "markdown",
      "metadata": {
        "id": "view-in-github",
        "colab_type": "text"
      },
      "source": [
        "<a href=\"https://colab.research.google.com/github/MingyuKIM615/BaekJoon/blob/master/%EA%B8%B0%EB%B3%B8_%EC%88%98%ED%95%99_2.ipynb\" target=\"_parent\"><img src=\"https://colab.research.google.com/assets/colab-badge.svg\" alt=\"Open In Colab\"/></a>"
      ]
    },
    {
      "cell_type": "markdown",
      "source": [
        "# 소수 찾기(1978)"
      ],
      "metadata": {
        "id": "zcq4Wxvwspz2"
      }
    },
    {
      "cell_type": "code",
      "execution_count": 2,
      "metadata": {
        "id": "MuzQh-RBi8CH",
        "colab": {
          "base_uri": "https://localhost:8080/"
        },
        "outputId": "6fa2cc9c-639a-4dcc-c3ae-83fd30b1831e"
      },
      "outputs": [
        {
          "output_type": "stream",
          "name": "stdout",
          "text": [
            "4\n",
            "1 3 5 7\n",
            "3\n"
          ]
        }
      ],
      "source": [
        "N = int(input())\n",
        "list_number = map(int, input().split())\n",
        "\n",
        "list_n = []\n",
        "\n",
        "for i in range(2, 1001):\n",
        "  cnt1 = 0\n",
        "  for j in range(1, i):\n",
        "    if(i%j == 0):\n",
        "      cnt1+=1\n",
        "  if cnt1 == 1:\n",
        "    list_n.append(i)\n",
        "\n",
        "cnt2 = 0\n",
        "for i in list_number:\n",
        "  if i in list_n:\n",
        "    cnt2+=1\n",
        "\n",
        "print(cnt2)"
      ]
    },
    {
      "cell_type": "code",
      "source": [
        "4\n"
      ],
      "metadata": {
        "id": "tnVPxDlbtr-F"
      },
      "execution_count": null,
      "outputs": []
    }
  ]
}