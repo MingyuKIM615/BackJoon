{
  "nbformat": 4,
  "nbformat_minor": 0,
  "metadata": {
    "colab": {
      "name": "정렬.ipynb",
      "provenance": [],
      "collapsed_sections": [],
      "authorship_tag": "ABX9TyNf2YLQRuiUfgZC5razl2kh",
      "include_colab_link": true
    },
    "kernelspec": {
      "name": "python3",
      "display_name": "Python 3"
    },
    "language_info": {
      "name": "python"
    }
  },
  "cells": [
    {
      "cell_type": "markdown",
      "metadata": {
        "id": "view-in-github",
        "colab_type": "text"
      },
      "source": [
        "<a href=\"https://colab.research.google.com/github/MingyuKIM615/BaekJoon/blob/master/%EC%A0%95%EB%A0%AC.ipynb\" target=\"_parent\"><img src=\"https://colab.research.google.com/assets/colab-badge.svg\" alt=\"Open In Colab\"/></a>"
      ]
    },
    {
      "cell_type": "markdown",
      "source": [
        "# 수 정렬하기(2750)"
      ],
      "metadata": {
        "id": "3tCxoAHV4b3Y"
      }
    },
    {
      "cell_type": "code",
      "execution_count": null,
      "metadata": {
        "colab": {
          "base_uri": "https://localhost:8080/"
        },
        "id": "IvWw1qhf4a2p",
        "outputId": "eac25128-8dd5-4e9b-b46d-041852f39b8e"
      },
      "outputs": [
        {
          "output_type": "stream",
          "name": "stdout",
          "text": [
            "3\n",
            "3\n",
            "2\n",
            "1\n",
            "[3, 2, 1]\n",
            "1\n",
            "2\n",
            "3\n"
          ]
        }
      ],
      "source": [
        "N = int(input())\n",
        "list_num = []\n",
        "for _ in range(N):\n",
        "  list_num.append(int(input())) # 배열에 값 넣기\n",
        "\n",
        "list_num.sort() # 배열 정렬\n",
        "\n",
        "for i in list_num:\n",
        "  print(i)"
      ]
    },
    {
      "cell_type": "markdown",
      "source": [
        "# 수 정렬하기 2(2751)"
      ],
      "metadata": {
        "id": "db6JWa2Lx5zz"
      }
    },
    {
      "cell_type": "code",
      "source": [
        "# pypy3로 제출\n",
        "N = int(input())\n",
        "list_num = []\n",
        "for _ in range(N):\n",
        "  list_num.append(int(input())) # 배열에 값 넣기\n",
        "lost_num = sorted(list_num)\n",
        "for i in range(N):\n",
        "  print(lost_num[i])"
      ],
      "metadata": {
        "id": "A0tX_u3f4-Hr",
        "colab": {
          "base_uri": "https://localhost:8080/"
        },
        "outputId": "ac4cd0e8-808a-487b-e29a-ebe3e3de4cc5"
      },
      "execution_count": null,
      "outputs": [
        {
          "output_type": "stream",
          "name": "stdout",
          "text": [
            "5\n",
            "1\n",
            "2\n",
            "4\n",
            "3\n",
            "5\n",
            "1\n",
            "2\n",
            "3\n",
            "4\n",
            "5\n"
          ]
        }
      ]
    },
    {
      "cell_type": "markdown",
      "source": [
        "# 수 정렬하기3(10989)"
      ],
      "metadata": {
        "id": "UFwmKJG-Gdr2"
      }
    },
    {
      "cell_type": "code",
      "source": [
        "import sys\n",
        "\n",
        "n = int(sys.stdin.readline())\n",
        "num_list = [0] * 10001\n",
        "\n",
        "for _ in range(n):\n",
        "    num_list[int(sys.stdin.readline())] += 1\n",
        "\n",
        "for i in range(10001):\n",
        "    if num_list[i] != 0:\n",
        "        for j in range(num_list[i]):\n",
        "            print(i)"
      ],
      "metadata": {
        "id": "yJgnF4CNyhJT",
        "colab": {
          "base_uri": "https://localhost:8080/",
          "height": 253
        },
        "outputId": "fa8532a2-3820-4293-d28d-62b6d1f5ba68"
      },
      "execution_count": null,
      "outputs": [
        {
          "name": "stdout",
          "output_type": "stream",
          "text": [
            "4\n"
          ]
        },
        {
          "output_type": "error",
          "ename": "AttributeError",
          "evalue": "ignored",
          "traceback": [
            "\u001b[0;31m---------------------------------------------------------------------------\u001b[0m",
            "\u001b[0;31mAttributeError\u001b[0m                            Traceback (most recent call last)",
            "\u001b[0;32m<ipython-input-2-86e12c337de9>\u001b[0m in \u001b[0;36m<module>\u001b[0;34m()\u001b[0m\n\u001b[1;32m      6\u001b[0m \u001b[0;34m\u001b[0m\u001b[0m\n\u001b[1;32m      7\u001b[0m \u001b[0;32mfor\u001b[0m \u001b[0m_\u001b[0m \u001b[0;32min\u001b[0m \u001b[0mrange\u001b[0m\u001b[0;34m(\u001b[0m\u001b[0mn\u001b[0m\u001b[0;34m)\u001b[0m\u001b[0;34m:\u001b[0m\u001b[0;34m\u001b[0m\u001b[0;34m\u001b[0m\u001b[0m\n\u001b[0;32m----> 8\u001b[0;31m   \u001b[0minput_num\u001b[0m \u001b[0;34m=\u001b[0m \u001b[0mint\u001b[0m\u001b[0;34m(\u001b[0m\u001b[0msys\u001b[0m\u001b[0;34m.\u001b[0m\u001b[0mstdin\u001b[0m\u001b[0;34m.\u001b[0m\u001b[0mreadlin\u001b[0m\u001b[0;34m(\u001b[0m\u001b[0;34m)\u001b[0m\u001b[0;34m)\u001b[0m\u001b[0;34m\u001b[0m\u001b[0;34m\u001b[0m\u001b[0m\n\u001b[0m\u001b[1;32m      9\u001b[0m \u001b[0;34m\u001b[0m\u001b[0m\n\u001b[1;32m     10\u001b[0m   \u001b[0mlist_num\u001b[0m\u001b[0;34m[\u001b[0m\u001b[0minput_num\u001b[0m\u001b[0;34m]\u001b[0m \u001b[0;34m=\u001b[0m \u001b[0mlist_num\u001b[0m\u001b[0;34m[\u001b[0m\u001b[0minput_num\u001b[0m\u001b[0;34m]\u001b[0m \u001b[0;34m+\u001b[0m \u001b[0;36m1\u001b[0m\u001b[0;34m\u001b[0m\u001b[0;34m\u001b[0m\u001b[0m\n",
            "\u001b[0;31mAttributeError\u001b[0m: '_io.TextIOWrapper' object has no attribute 'readlin'"
          ]
        }
      ]
    },
    {
      "cell_type": "markdown",
      "source": [
        "# 통계학(2108)"
      ],
      "metadata": {
        "id": "Hr5PSub1jUaH"
      }
    },
    {
      "cell_type": "code",
      "source": [
        "from collections import Counter\n",
        "import sys\n",
        "n = int(sys.stdin.readline())\n",
        "\n",
        "list_num = []\n",
        "\n",
        "for _ in range(n):\n",
        "  list_num.append(int(sys.stdin.readline()))\n",
        "\n",
        "list_num.sort()\n",
        "cnt = Counter(list_num).most_common(2)\n",
        "\n",
        "print(round(sum(list_num) / len(list_num))) # 평균\n",
        "print(list_num[n//2]) # 중앙값\n",
        "\n",
        "if len(list_num) > 1:\n",
        "  if cnt[0][1] == cnt[1][1]:\n",
        "    print(cnt[1][0])\n",
        "  else:\n",
        "    print(cnt[0][0])\n",
        "else:\n",
        "  print(cnt[0][0])\n",
        "\n",
        "print(max(list_num) - min(list_num)) # 범위"
      ],
      "metadata": {
        "id": "-Rw14dS8G93-",
        "colab": {
          "base_uri": "https://localhost:8080/"
        },
        "outputId": "9ddaa4e4-fa62-41c7-f878-aee8bf7c0b54"
      },
      "execution_count": null,
      "outputs": [
        {
          "output_type": "stream",
          "name": "stdout",
          "text": [
            "5\n",
            "1\n",
            "3\n",
            "8\n",
            "-2\n",
            "2\n",
            "2\n",
            "2\n",
            "1\n",
            "10\n"
          ]
        }
      ]
    },
    {
      "cell_type": "code",
      "source": [
        "from collections import Counter\n",
        "\n",
        "list_num = [1,3,8,-2,2]\n",
        "list_num.sort()\n",
        "cnt = Counter(list_num).most_common(2)\n",
        "print(cnt)\n",
        "print(cnt[0][0])\n",
        "print(cnt[1][0])"
      ],
      "metadata": {
        "id": "KtWYwktYkl01",
        "colab": {
          "base_uri": "https://localhost:8080/"
        },
        "outputId": "e978f13d-9489-47fb-bd98-983bf54b77d0"
      },
      "execution_count": null,
      "outputs": [
        {
          "output_type": "stream",
          "name": "stdout",
          "text": [
            "[(-2, 1), (1, 1)]\n",
            "-2\n",
            "1\n"
          ]
        }
      ]
    },
    {
      "cell_type": "markdown",
      "source": [
        "# 소트인사이드(1427)"
      ],
      "metadata": {
        "id": "fciozoHIUb7d"
      }
    },
    {
      "cell_type": "code",
      "source": [
        "N = input()\n",
        "\n",
        "list_num = []\n",
        "\n",
        "for i in N:\n",
        "  list_num.append(int(i))\n",
        "\n",
        "list_num.sort(reverse=True)\n",
        "\n",
        "result = ''\n",
        "for i in list_num:\n",
        "  result +=str(i)\n",
        "print(result)"
      ],
      "metadata": {
        "id": "nwHO74fpz7fP",
        "colab": {
          "base_uri": "https://localhost:8080/"
        },
        "outputId": "bde44833-429a-4249-a2d3-c38f0d512a63"
      },
      "execution_count": null,
      "outputs": [
        {
          "output_type": "stream",
          "name": "stdout",
          "text": [
            "3213\n",
            "[3, 3, 2, 1]\n",
            "3321\n"
          ]
        }
      ]
    },
    {
      "cell_type": "markdown",
      "source": [
        "# 좌표 정렬하기(11650)"
      ],
      "metadata": {
        "id": "1JYDXz-OMvu2"
      }
    },
    {
      "cell_type": "code",
      "source": [
        "n = int(input())\n",
        "\n",
        "list_num = []\n",
        "\n",
        "for _ in range(n):\n",
        "  list_num.append(list(map(int,input().split())))\n",
        "\n",
        "list_num.sort()\n",
        "\n",
        "\n",
        "for i in list_num:\n",
        "  print(i[0], i[1])"
      ],
      "metadata": {
        "id": "nmgf5untU5Pn",
        "colab": {
          "base_uri": "https://localhost:8080/"
        },
        "outputId": "af7a53ab-ae24-44ee-b20d-08e0fdb75088"
      },
      "execution_count": null,
      "outputs": [
        {
          "output_type": "stream",
          "name": "stdout",
          "text": [
            "5\n",
            "3 4\n",
            "1 1\n",
            "1 -1\n",
            "2 2\n",
            "3 3\n",
            "1 -1\n",
            "1 1\n",
            "2 2\n",
            "3 3\n",
            "3 4\n"
          ]
        }
      ]
    },
    {
      "cell_type": "markdown",
      "source": [
        "# 좌표 정렬하기 2(11651)"
      ],
      "metadata": {
        "id": "2vXDhqJMQDrp"
      }
    },
    {
      "cell_type": "code",
      "source": [
        "n = int(input())\n",
        "\n",
        "list_num = []\n",
        "\n",
        "for _ in range(n):\n",
        "  list_num.append(list(map(int, input().split())))\n",
        "\n",
        "list_num.sort(key=lambda x : (x[1], x[0]))\n",
        "\n",
        "for i in list_num:\n",
        "  print(i[0], i[1])"
      ],
      "metadata": {
        "id": "JLh1aZ5-NrW1",
        "colab": {
          "base_uri": "https://localhost:8080/"
        },
        "outputId": "9b8214c2-09e7-4162-9f73-db6a4edf7e7b"
      },
      "execution_count": null,
      "outputs": [
        {
          "output_type": "stream",
          "name": "stdout",
          "text": [
            "4\n",
            "1 -1\n",
            "1 2\n",
            "2 2\n",
            "3 3\n",
            "0 4\n"
          ]
        }
      ]
    },
    {
      "cell_type": "markdown",
      "source": [
        "# 단어 정렬(1181)"
      ],
      "metadata": {
        "id": "9zIfgvMzcgHo"
      }
    },
    {
      "cell_type": "code",
      "source": [
        "n = int(input())\n",
        "\n",
        "list_word = []\n",
        "\n",
        "for _ in range(n):\n",
        "  list_word.append(input())\n",
        "\n",
        "list_word = list(set(list_word))\n",
        "\n",
        "list_word.sort(key = lambda x : (len(x), x))\n",
        "\n",
        "for i in list_word:\n",
        "  print(i)"
      ],
      "metadata": {
        "id": "NZZBrzq8cfuy"
      },
      "execution_count": null,
      "outputs": []
    },
    {
      "cell_type": "code",
      "source": [
        "list_word = ['but', 'i', 'wont', 'hesitate', 'no', 'more', 'no', 'it', 'cannot', 'wait', 'im', 'yours']\n",
        "\n",
        "list_word = list(set(list_word))\n",
        "\n",
        "list_word.sort(key = lambda x : (len(x), x))\n",
        "\n",
        "for i in list_word:\n",
        "  print(i)"
      ],
      "metadata": {
        "id": "AqowKkQyQY8T",
        "colab": {
          "base_uri": "https://localhost:8080/"
        },
        "outputId": "0522b889-ea22-4088-b331-191b9d0306e4"
      },
      "execution_count": null,
      "outputs": [
        {
          "output_type": "stream",
          "name": "stdout",
          "text": [
            "i\n",
            "im\n",
            "it\n",
            "no\n",
            "but\n",
            "more\n",
            "wait\n",
            "wont\n",
            "yours\n",
            "cannot\n",
            "hesitate\n"
          ]
        }
      ]
    },
    {
      "cell_type": "markdown",
      "source": [
        "# 나이순 정렬(10814)"
      ],
      "metadata": {
        "id": "oEeLRTljqSdc"
      }
    },
    {
      "cell_type": "code",
      "source": [
        "n = int(input())\n",
        "\n",
        "list_num = []\n",
        "\n",
        "for _ in range(n):\n",
        "  list_num.append(input().split())\n",
        "\n",
        "list_num.sort(key=lambda x : int(x[0]))\n",
        "\n",
        "for i in list_num:\n",
        "  print(i[0], i[1])"
      ],
      "metadata": {
        "id": "jVoadiTlfroE",
        "colab": {
          "base_uri": "https://localhost:8080/"
        },
        "outputId": "271aace0-fba2-4af7-d970-eae086d2e572"
      },
      "execution_count": null,
      "outputs": [
        {
          "output_type": "stream",
          "name": "stdout",
          "text": [
            "3\n",
            "21 Junkyu\n",
            "21 Dohyun\n",
            "20 Sunyoung\n",
            "20 Sunyoung\n",
            "21 Junkyu\n",
            "21 Dohyun\n"
          ]
        }
      ]
    },
    {
      "cell_type": "markdown",
      "source": [
        "# 좌표 압축(18870)"
      ],
      "metadata": {
        "id": "pVHxJO0r-z-z"
      }
    },
    {
      "cell_type": "code",
      "source": [
        "import sys\n",
        "n = int(input())\n",
        "\n",
        "numbers = list(map(int, sys.stdin.readline().rstrip().split()))\n",
        "\n",
        "numset = set(numbers)\n",
        "a = list(numset)\n",
        "a.sort()\n",
        "\n",
        "numdict = {}\n",
        "for i in range(len(a)):\n",
        "    numdict[a[i]] = i\n",
        "\n",
        "for i in numbers:\n",
        "    print(numdict[i], end=' ')"
      ],
      "metadata": {
        "id": "uxNfokU6q_0y",
        "colab": {
          "base_uri": "https://localhost:8080/"
        },
        "outputId": "5b18d9cc-7482-4530-f5d7-9f7bfd5eb2c6"
      },
      "execution_count": 24,
      "outputs": [
        {
          "output_type": "stream",
          "name": "stdout",
          "text": [
            "3\n",
            "1\n",
            "2\n",
            "1\n",
            "0 1 0 "
          ]
        }
      ]
    },
    {
      "cell_type": "code",
      "source": [
        " "
      ],
      "metadata": {
        "id": "If2ui6Mz_J9G"
      },
      "execution_count": 16,
      "outputs": []
    }
  ]
}
