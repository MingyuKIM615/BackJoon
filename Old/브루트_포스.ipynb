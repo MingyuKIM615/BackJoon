{
  "nbformat": 4,
  "nbformat_minor": 0,
  "metadata": {
    "colab": {
      "name": "브루트 포스.ipynb",
      "provenance": [],
      "collapsed_sections": [],
      "authorship_tag": "ABX9TyOyHbNpbR+cad671lpmCUVK",
      "include_colab_link": true
    },
    "kernelspec": {
      "name": "python3",
      "display_name": "Python 3"
    },
    "language_info": {
      "name": "python"
    }
  },
  "cells": [
    {
      "cell_type": "markdown",
      "metadata": {
        "id": "view-in-github",
        "colab_type": "text"
      },
      "source": [
        "<a href=\"https://colab.research.google.com/github/MingyuKIM615/BaekJoon/blob/master/%EB%B8%8C%EB%A3%A8%ED%8A%B8_%ED%8F%AC%EC%8A%A4.ipynb\" target=\"_parent\"><img src=\"https://colab.research.google.com/assets/colab-badge.svg\" alt=\"Open In Colab\"/></a>"
      ]
    },
    {
      "cell_type": "markdown",
      "source": [
        "# 블랙잭(2798)"
      ],
      "metadata": {
        "id": "X1_UbrSKDktO"
      }
    },
    {
      "cell_type": "code",
      "execution_count": null,
      "metadata": {
        "colab": {
          "base_uri": "https://localhost:8080/"
        },
        "id": "U-Dum24gDgGQ",
        "outputId": "fb8c71b1-cd74-447f-904e-b52e2961069f"
      },
      "outputs": [
        {
          "output_type": "stream",
          "name": "stdout",
          "text": [
            "10 500\n",
            "93 181 245 214 315 36 295 185 138 216 \n",
            "497\n"
          ]
        }
      ],
      "source": [
        "N, M = map(int, input().split())\n",
        "list_number = input().split()\n",
        "\n",
        "def bJ(list_num):\n",
        "  list_sum = []\n",
        "  len_num = len(list_num)\n",
        "  sum = 0\n",
        "  for i in range(len_num-2):\n",
        "    for j in range(i+1, len_num-1):\n",
        "      for k in range(j+1, len_num):\n",
        "        sum = int(list_num[i]) + int(list_num[j]) + int(list_num[k])\n",
        "        if sum > M:\n",
        "          continue\n",
        "        else:\n",
        "          list_sum.append(sum)\n",
        "  return max(list_sum)\n",
        "\n",
        "  \n",
        "print(bJ(list_number))\n",
        "\n"
      ]
    },
    {
      "cell_type": "markdown",
      "source": [
        "# 분해합(2231)"
      ],
      "metadata": {
        "id": "UjC90pM-J1yN"
      }
    },
    {
      "cell_type": "code",
      "source": [
        "N = int(input())\n",
        "\n",
        "N_len = len(str(N))\n",
        "\n",
        "range_number = 0\n",
        "\n",
        "if N-9*N_len >= 0:\n",
        "  range_number = N-9*N_len\n",
        "else:\n",
        "  range_number = 0\n",
        "\n",
        "for i in range(range_number, N):\n",
        "  M = i\n",
        "  str_i = str(i)\n",
        "  for j in str_i:\n",
        "    M  += int(j)\n",
        "  if M == N:\n",
        "    print(i)\n",
        "    break\n",
        "  if i == N-1:\n",
        "    print(0)\n",
        "\n"
      ],
      "metadata": {
        "id": "1GRhdetXEJer",
        "colab": {
          "base_uri": "https://localhost:8080/"
        },
        "outputId": "288f15d3-2d2a-40af-c060-88db95965665"
      },
      "execution_count": null,
      "outputs": [
        {
          "output_type": "stream",
          "name": "stdout",
          "text": [
            "3\n",
            "0\n"
          ]
        }
      ]
    },
    {
      "cell_type": "markdown",
      "source": [
        "# 덩치(7568)"
      ],
      "metadata": {
        "id": "HGF9gJUlVBFP"
      }
    },
    {
      "cell_type": "code",
      "source": [
        "num_student = int(input())\n",
        "student_list = []\n",
        "\n",
        "for _ in range(num_student):\n",
        "    weight, height = map(int, input().split())\n",
        "    student_list.append((weight, height))\n",
        "\n",
        "for i in student_list:\n",
        "    rank = 1\n",
        "    for j in student_list:\n",
        "        if i[0] < j[0] and i[1] < j[1]:\n",
        "                rank += 1\n",
        "    print(rank, end = \" \")"
      ],
      "metadata": {
        "id": "j_TP22MaNOrk",
        "colab": {
          "base_uri": "https://localhost:8080/"
        },
        "outputId": "24b7cdae-3ba5-4bbe-a65b-1351206c817a"
      },
      "execution_count": null,
      "outputs": [
        {
          "output_type": "stream",
          "name": "stdout",
          "text": [
            "2\n",
            "1 1\n",
            "2 2\n",
            "0 0\n"
          ]
        }
      ]
    },
    {
      "cell_type": "code",
      "source": [
        "121"
      ],
      "metadata": {
        "colab": {
          "base_uri": "https://localhost:8080/"
        },
        "id": "qRVJ17CEWkgi",
        "outputId": "158ba347-5ab6-4a4f-b9ce-429c7336abdd"
      },
      "execution_count": null,
      "outputs": [
        {
          "output_type": "execute_result",
          "data": {
            "text/plain": [
              "1"
            ]
          },
          "metadata": {},
          "execution_count": 22
        }
      ]
    },
    {
      "cell_type": "code",
      "source": [
        ""
      ],
      "metadata": {
        "id": "TBM3G2XnguIx"
      },
      "execution_count": null,
      "outputs": []
    }
  ]
}
