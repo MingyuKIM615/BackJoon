{
  "nbformat": 4,
  "nbformat_minor": 0,
  "metadata": {
    "colab": {
      "name": "정렬.ipynb",
      "provenance": [],
      "collapsed_sections": [],
      "authorship_tag": "ABX9TyNzf6WNjLPEoe+GhGizLfzv",
      "include_colab_link": true
    },
    "kernelspec": {
      "name": "python3",
      "display_name": "Python 3"
    },
    "language_info": {
      "name": "python"
    }
  },
  "cells": [
    {
      "cell_type": "markdown",
      "metadata": {
        "id": "view-in-github",
        "colab_type": "text"
      },
      "source": [
        "<a href=\"https://colab.research.google.com/github/MingyuKIM615/BaekJoon/blob/master/%EC%A0%95%EB%A0%AC.ipynb\" target=\"_parent\"><img src=\"https://colab.research.google.com/assets/colab-badge.svg\" alt=\"Open In Colab\"/></a>"
      ]
    },
    {
      "cell_type": "markdown",
      "source": [
        "# 수 정렬하기(2750)"
      ],
      "metadata": {
        "id": "3tCxoAHV4b3Y"
      }
    },
    {
      "cell_type": "code",
      "execution_count": null,
      "metadata": {
        "colab": {
          "base_uri": "https://localhost:8080/"
        },
        "id": "IvWw1qhf4a2p",
        "outputId": "eac25128-8dd5-4e9b-b46d-041852f39b8e"
      },
      "outputs": [
        {
          "output_type": "stream",
          "name": "stdout",
          "text": [
            "3\n",
            "3\n",
            "2\n",
            "1\n",
            "[3, 2, 1]\n",
            "1\n",
            "2\n",
            "3\n"
          ]
        }
      ],
      "source": [
        "N = int(input())\n",
        "list_num = []\n",
        "for _ in range(N):\n",
        "  list_num.append(int(input())) # 배열에 값 넣기\n",
        "\n",
        "list_num.sort() # 배열 정렬\n",
        "\n",
        "for i in list_num:\n",
        "  print(i)"
      ]
    },
    {
      "cell_type": "markdown",
      "source": [
        "# 수 정렬하기 2(2751)"
      ],
      "metadata": {
        "id": "db6JWa2Lx5zz"
      }
    },
    {
      "cell_type": "code",
      "source": [
        "# pypy3로 제출\n",
        "N = int(input())\n",
        "list_num = []\n",
        "for _ in range(N):\n",
        "  list_num.append(int(input())) # 배열에 값 넣기\n",
        "lost_num = sorted(list_num)\n",
        "for i in range(N):\n",
        "  print(lost_num[i])"
      ],
      "metadata": {
        "id": "A0tX_u3f4-Hr",
        "colab": {
          "base_uri": "https://localhost:8080/"
        },
        "outputId": "ac4cd0e8-808a-487b-e29a-ebe3e3de4cc5"
      },
      "execution_count": 8,
      "outputs": [
        {
          "output_type": "stream",
          "name": "stdout",
          "text": [
            "5\n",
            "1\n",
            "2\n",
            "4\n",
            "3\n",
            "5\n",
            "1\n",
            "2\n",
            "3\n",
            "4\n",
            "5\n"
          ]
        }
      ]
    },
    {
      "cell_type": "code",
      "source": [
        "2\n"
      ],
      "metadata": {
        "id": "yJgnF4CNyhJT"
      },
      "execution_count": null,
      "outputs": []
    }
  ]
}