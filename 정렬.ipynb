{
  "nbformat": 4,
  "nbformat_minor": 0,
  "metadata": {
    "colab": {
      "name": "정렬.ipynb",
      "provenance": [],
      "collapsed_sections": [],
      "authorship_tag": "ABX9TyPS+TO5PgHIPKzs8KbS1ARM",
      "include_colab_link": true
    },
    "kernelspec": {
      "name": "python3",
      "display_name": "Python 3"
    },
    "language_info": {
      "name": "python"
    }
  },
  "cells": [
    {
      "cell_type": "markdown",
      "metadata": {
        "id": "view-in-github",
        "colab_type": "text"
      },
      "source": [
        "<a href=\"https://colab.research.google.com/github/MingyuKIM615/BaekJoon/blob/master/%EC%A0%95%EB%A0%AC.ipynb\" target=\"_parent\"><img src=\"https://colab.research.google.com/assets/colab-badge.svg\" alt=\"Open In Colab\"/></a>"
      ]
    },
    {
      "cell_type": "markdown",
      "source": [
        "# 수 정렬하기(2750)"
      ],
      "metadata": {
        "id": "3tCxoAHV4b3Y"
      }
    },
    {
      "cell_type": "code",
      "execution_count": null,
      "metadata": {
        "colab": {
          "base_uri": "https://localhost:8080/"
        },
        "id": "IvWw1qhf4a2p",
        "outputId": "eac25128-8dd5-4e9b-b46d-041852f39b8e"
      },
      "outputs": [
        {
          "output_type": "stream",
          "name": "stdout",
          "text": [
            "3\n",
            "3\n",
            "2\n",
            "1\n",
            "[3, 2, 1]\n",
            "1\n",
            "2\n",
            "3\n"
          ]
        }
      ],
      "source": [
        "N = int(input())\n",
        "list_num = []\n",
        "for _ in range(N):\n",
        "  list_num.append(int(input())) # 배열에 값 넣기\n",
        "\n",
        "list_num.sort() # 배열 정렬\n",
        "\n",
        "for i in list_num:\n",
        "  print(i)"
      ]
    },
    {
      "cell_type": "markdown",
      "source": [
        "# 수 정렬하기 2(2751)"
      ],
      "metadata": {
        "id": "db6JWa2Lx5zz"
      }
    },
    {
      "cell_type": "code",
      "source": [
        "# pypy3로 제출\n",
        "N = int(input())\n",
        "list_num = []\n",
        "for _ in range(N):\n",
        "  list_num.append(int(input())) # 배열에 값 넣기\n",
        "lost_num = sorted(list_num)\n",
        "for i in range(N):\n",
        "  print(lost_num[i])"
      ],
      "metadata": {
        "id": "A0tX_u3f4-Hr",
        "colab": {
          "base_uri": "https://localhost:8080/"
        },
        "outputId": "ac4cd0e8-808a-487b-e29a-ebe3e3de4cc5"
      },
      "execution_count": null,
      "outputs": [
        {
          "output_type": "stream",
          "name": "stdout",
          "text": [
            "5\n",
            "1\n",
            "2\n",
            "4\n",
            "3\n",
            "5\n",
            "1\n",
            "2\n",
            "3\n",
            "4\n",
            "5\n"
          ]
        }
      ]
    },
    {
      "cell_type": "markdown",
      "source": [
        "# 수 정렬하기3(10989)"
      ],
      "metadata": {
        "id": "UFwmKJG-Gdr2"
      }
    },
    {
      "cell_type": "code",
      "source": [
        "import sys\n",
        "\n",
        "n = int(sys.stdin.readline())\n",
        "num_list = [0] * 10001\n",
        "\n",
        "for _ in range(n):\n",
        "    num_list[int(sys.stdin.readline())] += 1\n",
        "\n",
        "for i in range(10001):\n",
        "    if num_list[i] != 0:\n",
        "        for j in range(num_list[i]):\n",
        "            print(i)"
      ],
      "metadata": {
        "id": "yJgnF4CNyhJT",
        "colab": {
          "base_uri": "https://localhost:8080/",
          "height": 253
        },
        "outputId": "fa8532a2-3820-4293-d28d-62b6d1f5ba68"
      },
      "execution_count": 2,
      "outputs": [
        {
          "name": "stdout",
          "output_type": "stream",
          "text": [
            "4\n"
          ]
        },
        {
          "output_type": "error",
          "ename": "AttributeError",
          "evalue": "ignored",
          "traceback": [
            "\u001b[0;31m---------------------------------------------------------------------------\u001b[0m",
            "\u001b[0;31mAttributeError\u001b[0m                            Traceback (most recent call last)",
            "\u001b[0;32m<ipython-input-2-86e12c337de9>\u001b[0m in \u001b[0;36m<module>\u001b[0;34m()\u001b[0m\n\u001b[1;32m      6\u001b[0m \u001b[0;34m\u001b[0m\u001b[0m\n\u001b[1;32m      7\u001b[0m \u001b[0;32mfor\u001b[0m \u001b[0m_\u001b[0m \u001b[0;32min\u001b[0m \u001b[0mrange\u001b[0m\u001b[0;34m(\u001b[0m\u001b[0mn\u001b[0m\u001b[0;34m)\u001b[0m\u001b[0;34m:\u001b[0m\u001b[0;34m\u001b[0m\u001b[0;34m\u001b[0m\u001b[0m\n\u001b[0;32m----> 8\u001b[0;31m   \u001b[0minput_num\u001b[0m \u001b[0;34m=\u001b[0m \u001b[0mint\u001b[0m\u001b[0;34m(\u001b[0m\u001b[0msys\u001b[0m\u001b[0;34m.\u001b[0m\u001b[0mstdin\u001b[0m\u001b[0;34m.\u001b[0m\u001b[0mreadlin\u001b[0m\u001b[0;34m(\u001b[0m\u001b[0;34m)\u001b[0m\u001b[0;34m)\u001b[0m\u001b[0;34m\u001b[0m\u001b[0;34m\u001b[0m\u001b[0m\n\u001b[0m\u001b[1;32m      9\u001b[0m \u001b[0;34m\u001b[0m\u001b[0m\n\u001b[1;32m     10\u001b[0m   \u001b[0mlist_num\u001b[0m\u001b[0;34m[\u001b[0m\u001b[0minput_num\u001b[0m\u001b[0;34m]\u001b[0m \u001b[0;34m=\u001b[0m \u001b[0mlist_num\u001b[0m\u001b[0;34m[\u001b[0m\u001b[0minput_num\u001b[0m\u001b[0;34m]\u001b[0m \u001b[0;34m+\u001b[0m \u001b[0;36m1\u001b[0m\u001b[0;34m\u001b[0m\u001b[0;34m\u001b[0m\u001b[0m\n",
            "\u001b[0;31mAttributeError\u001b[0m: '_io.TextIOWrapper' object has no attribute 'readlin'"
          ]
        }
      ]
    },
    {
      "cell_type": "code",
      "source": [
        ""
      ],
      "metadata": {
        "id": "-Rw14dS8G93-"
      },
      "execution_count": null,
      "outputs": []
    }
  ]
}