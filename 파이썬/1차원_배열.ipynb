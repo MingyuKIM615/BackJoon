{
  "nbformat": 4,
  "nbformat_minor": 0,
  "metadata": {
    "colab": {
      "provenance": [],
      "authorship_tag": "ABX9TyP1ugBj0I1W5YxkwzIYCXT0",
      "include_colab_link": true
    },
    "kernelspec": {
      "name": "python3",
      "display_name": "Python 3"
    },
    "language_info": {
      "name": "python"
    }
  },
  "cells": [
    {
      "cell_type": "markdown",
      "metadata": {
        "id": "view-in-github",
        "colab_type": "text"
      },
      "source": [
        "<a href=\"https://colab.research.google.com/github/MingyuKIM615/BaekJoon/blob/master/%ED%8C%8C%EC%9D%B4%EC%8D%AC/1%EC%B0%A8%EC%9B%90_%EB%B0%B0%EC%97%B4.ipynb\" target=\"_parent\"><img src=\"https://colab.research.google.com/assets/colab-badge.svg\" alt=\"Open In Colab\"/></a>"
      ]
    },
    {
      "cell_type": "markdown",
      "source": [
        "# 10807. 개수 세기\n",
        "* 총 N개의 정수가 주어졌을 때, 정수 v가 몇 개인지 구하는 프로그램을 작성하시오."
      ],
      "metadata": {
        "id": "8Ky2GO1CAIwt"
      }
    },
    {
      "cell_type": "code",
      "source": [
        "N = int(input())\n",
        "\n",
        "lst = list(input().split())\n",
        "\n",
        "v = input()\n",
        "\n",
        "cont = 0\n",
        "for i in lst:\n",
        "  if i == v:\n",
        "    cont +=1\n",
        "\n",
        "print(cont)"
      ],
      "metadata": {
        "colab": {
          "base_uri": "https://localhost:8080/"
        },
        "id": "QU_lvr3ZAJIn",
        "outputId": "eef9b477-abc7-46ad-a1b6-f0804f02fc03"
      },
      "execution_count": null,
      "outputs": [
        {
          "output_type": "stream",
          "name": "stdout",
          "text": [
            "11\n",
            "1 4 1 2 4 2 4 2 3 4 4\n",
            "5\n",
            "0\n"
          ]
        }
      ]
    },
    {
      "cell_type": "code",
      "execution_count": null,
      "metadata": {
        "id": "e3_2lw6K_7UR"
      },
      "outputs": [],
      "source": [
        "# 파이썬적 사고.. count 이용하기!\n",
        "a = int(input())\n",
        "arr = list(map(int,input().split()))\n",
        "n = int(input())\n",
        "print(arr.count(n)) # count 리스트를 읽어서 몇개인지 알려줌"
      ]
    },
    {
      "cell_type": "markdown",
      "source": [
        "# 10871. X보다 작은 수"
      ],
      "metadata": {
        "id": "IRZxU0S6FmeF"
      }
    },
    {
      "cell_type": "code",
      "source": [
        "N, X = map(int, input().split())\n",
        "arr = list(input().split())\n",
        "\n",
        "outMsg =\"\";\n",
        "\n",
        "for i in arr:\n",
        "  if int(i)<X:\n",
        "    outMsg = outMsg + \" \" + i\n",
        "print(outMsg.strip()) # strip() -> 양쪽 공백 제거"
      ],
      "metadata": {
        "colab": {
          "base_uri": "https://localhost:8080/"
        },
        "id": "t3G9wppYFqv6",
        "outputId": "c40331c5-bc70-4a05-df15-11bb5609eb4f"
      },
      "execution_count": null,
      "outputs": [
        {
          "output_type": "stream",
          "name": "stdout",
          "text": [
            "10 5\n",
            "1 10 4 9 2 3 8 5 7 6\n",
            "1 4 2 3\n"
          ]
        }
      ]
    },
    {
      "cell_type": "code",
      "source": [
        "n, x = map(int, input().split())\n",
        "answer = ' '.join([i for i in input().split() if int(i) < x])\n",
        "# join : '구분자'.join(리스트) 예) ['a','b','c'] => 'abc' (리스트를 문자열로 합쳐서 변환)\n",
        "\n",
        "print(answer, end='')\n",
        "# sep : 기본값으로 공백이 들어가 있으며 출력문들 사이에 해당하는 내용을 넣을 수 있다.\n",
        "# end : 기본값으로 개행(\\n)이 들어가 있으며 출력을 완료한 뒤의 내용을 수정"
      ],
      "metadata": {
        "colab": {
          "base_uri": "https://localhost:8080/"
        },
        "id": "aQacpmYjGlF4",
        "outputId": "3fd2e651-64d7-4aca-ad83-ad2ccd835a42"
      },
      "execution_count": null,
      "outputs": [
        {
          "output_type": "stream",
          "name": "stdout",
          "text": [
            "10 5\n",
            "1 10 4 9 2 3 8 5 7 6\n",
            "1 4 2 3\n"
          ]
        }
      ]
    },
    {
      "cell_type": "markdown",
      "source": [
        "# 10818. 최소, 최대"
      ],
      "metadata": {
        "id": "XiS_m7vR37a5"
      }
    },
    {
      "cell_type": "code",
      "source": [
        "N = input()\n",
        "arr = list(map(int, input().split()))\n",
        "\n",
        "print(min(arr), max(arr))"
      ],
      "metadata": {
        "id": "gnIaH3AXLf8B",
        "colab": {
          "base_uri": "https://localhost:8080/"
        },
        "outputId": "b6857dd0-efd0-40a2-a7d9-86429463c248"
      },
      "execution_count": 4,
      "outputs": [
        {
          "output_type": "stream",
          "name": "stdout",
          "text": [
            "5\n",
            "20 10 35 30 7\n",
            "7 35\n"
          ]
        }
      ]
    },
    {
      "cell_type": "markdown",
      "source": [
        "# 10810. 공 넣기"
      ],
      "metadata": {
        "id": "cSoFReis41e8"
      }
    },
    {
      "cell_type": "code",
      "source": [
        "N, M = map(int, input().split())\n",
        "\n",
        "lis = list(0 for _ in range(0, N)) # 리스트 N개의 0으로 초기화\n",
        "\n",
        "for _ in range(0, M):\n",
        "  arr = list(map(int, input().split()))\n",
        "  for i in range(arr[0]-1, arr[1]): # 리스트는 0부터 시작이므로 -1\n",
        "    lis[i]=arr[2]\n",
        "\n",
        "print(' '.join(str(i) for i in lis))"
      ],
      "metadata": {
        "colab": {
          "base_uri": "https://localhost:8080/",
          "height": 299
        },
        "id": "t2VRos_K4Fpb",
        "outputId": "f9153808-2925-4be3-bebd-54e606e071ab"
      },
      "execution_count": 18,
      "outputs": [
        {
          "name": "stdout",
          "output_type": "stream",
          "text": [
            " 5 4\n",
            "1 2 3\n",
            "3 4 4\n",
            "1 4 1\n",
            "2 2 2\n"
          ]
        },
        {
          "output_type": "error",
          "ename": "TypeError",
          "evalue": "ignored",
          "traceback": [
            "\u001b[0;31m---------------------------------------------------------------------------\u001b[0m",
            "\u001b[0;31mTypeError\u001b[0m                                 Traceback (most recent call last)",
            "\u001b[0;32m<ipython-input-18-d8ee4dd3c440>\u001b[0m in \u001b[0;36m<cell line: 10>\u001b[0;34m()\u001b[0m\n\u001b[1;32m      8\u001b[0m     \u001b[0mlis\u001b[0m\u001b[0;34m[\u001b[0m\u001b[0mi\u001b[0m\u001b[0;34m]\u001b[0m\u001b[0;34m=\u001b[0m\u001b[0marr\u001b[0m\u001b[0;34m[\u001b[0m\u001b[0;36m2\u001b[0m\u001b[0;34m]\u001b[0m\u001b[0;34m\u001b[0m\u001b[0;34m\u001b[0m\u001b[0m\n\u001b[1;32m      9\u001b[0m \u001b[0;34m\u001b[0m\u001b[0m\n\u001b[0;32m---> 10\u001b[0;31m \u001b[0mprint\u001b[0m\u001b[0;34m(\u001b[0m\u001b[0;34m' '\u001b[0m\u001b[0;34m.\u001b[0m\u001b[0mjoin\u001b[0m\u001b[0;34m(\u001b[0m\u001b[0mlis\u001b[0m\u001b[0;34m)\u001b[0m\u001b[0;34m)\u001b[0m\u001b[0;34m\u001b[0m\u001b[0;34m\u001b[0m\u001b[0m\n\u001b[0m",
            "\u001b[0;31mTypeError\u001b[0m: sequence item 0: expected str instance, int found"
          ]
        }
      ]
    },
    {
      "cell_type": "code",
      "source": [
        "# 다른 사람 풀이..\n",
        "n,m,*a=map(int,open(0).read().split())\n",
        "b=[0]*n\n",
        "for x in range(m):\n",
        "  i,j,k=a[3*x:3*x+3];\n",
        "  b[i-1:j]=[k]*(j-i+1)\n",
        "print(*b)"
      ],
      "metadata": {
        "colab": {
          "base_uri": "https://localhost:8080/"
        },
        "id": "2jXSguNf8_Bu",
        "outputId": "83ffdabb-b5c0-417c-b3a5-1763d54f423d"
      },
      "execution_count": 22,
      "outputs": [
        {
          "output_type": "stream",
          "name": "stdout",
          "text": [
            "1 2 3\n"
          ]
        }
      ]
    },
    {
      "cell_type": "code",
      "source": [
        "b=[0]*5\n",
        "print(b)"
      ],
      "metadata": {
        "colab": {
          "base_uri": "https://localhost:8080/"
        },
        "id": "LK5OMQtK_LoN",
        "outputId": "479bf833-7150-405c-92fd-6f69dc49c7a6"
      },
      "execution_count": 28,
      "outputs": [
        {
          "output_type": "stream",
          "name": "stdout",
          "text": [
            "[0, 0, 0, 0, 0]\n"
          ]
        }
      ]
    },
    {
      "cell_type": "code",
      "source": [],
      "metadata": {
        "id": "TfqnZDIoAWym"
      },
      "execution_count": null,
      "outputs": []
    }
  ]
}