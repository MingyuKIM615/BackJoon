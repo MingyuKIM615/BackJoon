{
  "nbformat": 4,
  "nbformat_minor": 0,
  "metadata": {
    "colab": {
      "provenance": [],
      "authorship_tag": "ABX9TyOTRSXLMcNRG0eQXNVXekbJ",
      "include_colab_link": true
    },
    "kernelspec": {
      "name": "python3",
      "display_name": "Python 3"
    },
    "language_info": {
      "name": "python"
    }
  },
  "cells": [
    {
      "cell_type": "markdown",
      "metadata": {
        "id": "view-in-github",
        "colab_type": "text"
      },
      "source": [
        "<a href=\"https://colab.research.google.com/github/MingyuKIM615/BaekJoon/blob/master/%ED%8C%8C%EC%9D%B4%EC%8D%AC/1%EC%B0%A8%EC%9B%90_%EB%B0%B0%EC%97%B4.ipynb\" target=\"_parent\"><img src=\"https://colab.research.google.com/assets/colab-badge.svg\" alt=\"Open In Colab\"/></a>"
      ]
    },
    {
      "cell_type": "markdown",
      "source": [
        "# 10807. 개수 세기\n",
        "* 총 N개의 정수가 주어졌을 때, 정수 v가 몇 개인지 구하는 프로그램을 작성하시오."
      ],
      "metadata": {
        "id": "8Ky2GO1CAIwt"
      }
    },
    {
      "cell_type": "code",
      "source": [
        "N = int(input())\n",
        "\n",
        "lst = list(input().split())\n",
        "\n",
        "v = input()\n",
        "\n",
        "cont = 0\n",
        "for i in lst:\n",
        "  if i == v:\n",
        "    cont +=1\n",
        "\n",
        "print(cont)"
      ],
      "metadata": {
        "colab": {
          "base_uri": "https://localhost:8080/"
        },
        "id": "QU_lvr3ZAJIn",
        "outputId": "eef9b477-abc7-46ad-a1b6-f0804f02fc03"
      },
      "execution_count": null,
      "outputs": [
        {
          "output_type": "stream",
          "name": "stdout",
          "text": [
            "11\n",
            "1 4 1 2 4 2 4 2 3 4 4\n",
            "5\n",
            "0\n"
          ]
        }
      ]
    },
    {
      "cell_type": "code",
      "execution_count": null,
      "metadata": {
        "id": "e3_2lw6K_7UR"
      },
      "outputs": [],
      "source": [
        "# 파이썬적 사고.. count 이용하기!\n",
        "a = int(input())\n",
        "arr = list(map(int,input().split()))\n",
        "n = int(input())\n",
        "print(arr.count(n)) # count 리스트를 읽어서 몇개인지 알려줌"
      ]
    },
    {
      "cell_type": "markdown",
      "source": [
        "# 10871. X보다 작은 수"
      ],
      "metadata": {
        "id": "IRZxU0S6FmeF"
      }
    },
    {
      "cell_type": "code",
      "source": [
        "N, X = map(int, input().split())\n",
        "arr = list(input().split())\n",
        "\n",
        "outMsg =\"\";\n",
        "\n",
        "for i in arr:\n",
        "  if int(i)<X:\n",
        "    outMsg = outMsg + \" \" + i\n",
        "print(outMsg.strip()) # strip() -> 양쪽 공백 제거"
      ],
      "metadata": {
        "colab": {
          "base_uri": "https://localhost:8080/"
        },
        "id": "t3G9wppYFqv6",
        "outputId": "c40331c5-bc70-4a05-df15-11bb5609eb4f"
      },
      "execution_count": null,
      "outputs": [
        {
          "output_type": "stream",
          "name": "stdout",
          "text": [
            "10 5\n",
            "1 10 4 9 2 3 8 5 7 6\n",
            "1 4 2 3\n"
          ]
        }
      ]
    },
    {
      "cell_type": "code",
      "source": [
        "n, x = map(int, input().split())\n",
        "answer = ' '.join([i for i in input().split() if int(i) < x])\n",
        "# join : '구분자'.join(리스트) 예) ['a','b','c'] => 'abc' (리스트를 문자열로 합쳐서 변환)\n",
        "\n",
        "print(answer, end='')\n",
        "# sep : 기본값으로 공백이 들어가 있으며 출력문들 사이에 해당하는 내용을 넣을 수 있다.\n",
        "# end : 기본값으로 개행(\\n)이 들어가 있으며 출력을 완료한 뒤의 내용을 수정"
      ],
      "metadata": {
        "colab": {
          "base_uri": "https://localhost:8080/"
        },
        "id": "aQacpmYjGlF4",
        "outputId": "3fd2e651-64d7-4aca-ad83-ad2ccd835a42"
      },
      "execution_count": null,
      "outputs": [
        {
          "output_type": "stream",
          "name": "stdout",
          "text": [
            "10 5\n",
            "1 10 4 9 2 3 8 5 7 6\n",
            "1 4 2 3\n"
          ]
        }
      ]
    },
    {
      "cell_type": "markdown",
      "source": [
        "# 10818. 최소, 최대"
      ],
      "metadata": {
        "id": "XiS_m7vR37a5"
      }
    },
    {
      "cell_type": "code",
      "source": [
        "N = input()\n",
        "arr = list(map(int, input().split()))\n",
        "\n",
        "print(min(arr), max(arr))"
      ],
      "metadata": {
        "id": "gnIaH3AXLf8B",
        "colab": {
          "base_uri": "https://localhost:8080/"
        },
        "outputId": "b6857dd0-efd0-40a2-a7d9-86429463c248"
      },
      "execution_count": null,
      "outputs": [
        {
          "output_type": "stream",
          "name": "stdout",
          "text": [
            "5\n",
            "20 10 35 30 7\n",
            "7 35\n"
          ]
        }
      ]
    },
    {
      "cell_type": "markdown",
      "source": [
        "# 10810. 공 넣기"
      ],
      "metadata": {
        "id": "cSoFReis41e8"
      }
    },
    {
      "cell_type": "code",
      "source": [
        "N, M = map(int, input().split())\n",
        "\n",
        "lis = list(0 for _ in range(0, N)) # 리스트 N개의 0으로 초기화\n",
        "\n",
        "for _ in range(0, M):\n",
        "  arr = list(map(int, input().split()))\n",
        "  for i in range(arr[0]-1, arr[1]): # 리스트는 0부터 시작이므로 -1\n",
        "    lis[i]=arr[2]\n",
        "\n",
        "print(' '.join(str(i) for i in lis))"
      ],
      "metadata": {
        "colab": {
          "base_uri": "https://localhost:8080/",
          "height": 299
        },
        "id": "t2VRos_K4Fpb",
        "outputId": "f9153808-2925-4be3-bebd-54e606e071ab"
      },
      "execution_count": null,
      "outputs": [
        {
          "name": "stdout",
          "output_type": "stream",
          "text": [
            " 5 4\n",
            "1 2 3\n",
            "3 4 4\n",
            "1 4 1\n",
            "2 2 2\n"
          ]
        },
        {
          "output_type": "error",
          "ename": "TypeError",
          "evalue": "ignored",
          "traceback": [
            "\u001b[0;31m---------------------------------------------------------------------------\u001b[0m",
            "\u001b[0;31mTypeError\u001b[0m                                 Traceback (most recent call last)",
            "\u001b[0;32m<ipython-input-18-d8ee4dd3c440>\u001b[0m in \u001b[0;36m<cell line: 10>\u001b[0;34m()\u001b[0m\n\u001b[1;32m      8\u001b[0m     \u001b[0mlis\u001b[0m\u001b[0;34m[\u001b[0m\u001b[0mi\u001b[0m\u001b[0;34m]\u001b[0m\u001b[0;34m=\u001b[0m\u001b[0marr\u001b[0m\u001b[0;34m[\u001b[0m\u001b[0;36m2\u001b[0m\u001b[0;34m]\u001b[0m\u001b[0;34m\u001b[0m\u001b[0;34m\u001b[0m\u001b[0m\n\u001b[1;32m      9\u001b[0m \u001b[0;34m\u001b[0m\u001b[0m\n\u001b[0;32m---> 10\u001b[0;31m \u001b[0mprint\u001b[0m\u001b[0;34m(\u001b[0m\u001b[0;34m' '\u001b[0m\u001b[0;34m.\u001b[0m\u001b[0mjoin\u001b[0m\u001b[0;34m(\u001b[0m\u001b[0mlis\u001b[0m\u001b[0;34m)\u001b[0m\u001b[0;34m)\u001b[0m\u001b[0;34m\u001b[0m\u001b[0;34m\u001b[0m\u001b[0m\n\u001b[0m",
            "\u001b[0;31mTypeError\u001b[0m: sequence item 0: expected str instance, int found"
          ]
        }
      ]
    },
    {
      "cell_type": "code",
      "source": [
        "# 다른 사람 풀이..\n",
        "n,m,*a=map(int,open(0).read().split())\n",
        "b=[0]*n\n",
        "for x in range(m):\n",
        "  i,j,k=a[3*x:3*x+3];\n",
        "  b[i-1:j]=[k]*(j-i+1)\n",
        "print(*b)"
      ],
      "metadata": {
        "colab": {
          "base_uri": "https://localhost:8080/"
        },
        "id": "2jXSguNf8_Bu",
        "outputId": "83ffdabb-b5c0-417c-b3a5-1763d54f423d"
      },
      "execution_count": null,
      "outputs": [
        {
          "output_type": "stream",
          "name": "stdout",
          "text": [
            "1 2 3\n"
          ]
        }
      ]
    },
    {
      "cell_type": "markdown",
      "source": [
        "# 10813. 공 바꾸기"
      ],
      "metadata": {
        "id": "5e60zvBxokJs"
      }
    },
    {
      "cell_type": "code",
      "source": [
        "N, M = map(int, input().split())\n",
        "\n",
        "lis = list(i for i in range(1, N+1)) # 리스트 1,2,3..,N 값 세팅\n",
        "\n",
        "for _ in range(M):\n",
        "  i, j = map(int, input().split())\n",
        "  lis[i-1], lis[j-1] = lis[j-1], lis[i-1] # 리스트 두 요소 변경\n",
        "print(' '.join(str(i) for i in lis))"
      ],
      "metadata": {
        "id": "TfqnZDIoAWym",
        "colab": {
          "base_uri": "https://localhost:8080/"
        },
        "outputId": "026ecfe2-06c6-4333-d479-51951c8b5ce1"
      },
      "execution_count": 8,
      "outputs": [
        {
          "output_type": "stream",
          "name": "stdout",
          "text": [
            "5 4\n",
            "1 2\n",
            "3 4\n",
            "1 4\n",
            "2 2\n",
            "3 1 4 2 5\n"
          ]
        }
      ]
    },
    {
      "cell_type": "markdown",
      "source": [
        "# 5597. 과제 안 내신 분..?"
      ],
      "metadata": {
        "id": "sQO2f7aJrWB4"
      }
    },
    {
      "cell_type": "code",
      "source": [
        "students = [i for i in range(1,31)]\n",
        "\n",
        "for _ in range(28):\n",
        "    applied = int(input())\n",
        "    students.remove(applied) #소거\n",
        "\n",
        "print(min(students))\n",
        "print(max(students))"
      ],
      "metadata": {
        "colab": {
          "base_uri": "https://localhost:8080/",
          "height": 513
        },
        "id": "5jBxwEzgqROC",
        "outputId": "c3edf73e-bb81-42ea-8b4d-c6b676ba3aba"
      },
      "execution_count": 20,
      "outputs": [
        {
          "name": "stdout",
          "output_type": "stream",
          "text": [
            "1\n",
            "2\n",
            "3\n",
            "4\n",
            "5\n",
            "6\n",
            "11\n"
          ]
        },
        {
          "output_type": "error",
          "ename": "KeyboardInterrupt",
          "evalue": "ignored",
          "traceback": [
            "\u001b[0;31m---------------------------------------------------------------------------\u001b[0m",
            "\u001b[0;31mKeyboardInterrupt\u001b[0m                         Traceback (most recent call last)",
            "\u001b[0;32m<ipython-input-20-6aa5993a00df>\u001b[0m in \u001b[0;36m<cell line: 1>\u001b[0;34m()\u001b[0m\n\u001b[0;32m----> 1\u001b[0;31m \u001b[0mlis\u001b[0m \u001b[0;34m=\u001b[0m \u001b[0;34m[\u001b[0m\u001b[0mint\u001b[0m\u001b[0;34m(\u001b[0m\u001b[0minput\u001b[0m\u001b[0;34m(\u001b[0m\u001b[0;34m)\u001b[0m\u001b[0;34m)\u001b[0m \u001b[0;32mfor\u001b[0m \u001b[0m_\u001b[0m \u001b[0;32min\u001b[0m \u001b[0mrange\u001b[0m\u001b[0;34m(\u001b[0m\u001b[0;36m28\u001b[0m\u001b[0;34m)\u001b[0m\u001b[0;34m]\u001b[0m\u001b[0;34m\u001b[0m\u001b[0;34m\u001b[0m\u001b[0m\n\u001b[0m\u001b[1;32m      2\u001b[0m \u001b[0;34m\u001b[0m\u001b[0m\n\u001b[1;32m      3\u001b[0m \u001b[0;34m\u001b[0m\u001b[0m\n\u001b[1;32m      4\u001b[0m \u001b[0mlis2\u001b[0m \u001b[0;34m=\u001b[0m \u001b[0mset\u001b[0m\u001b[0;34m(\u001b[0m\u001b[0mlist\u001b[0m\u001b[0;34m(\u001b[0m\u001b[0mi\u001b[0m \u001b[0;32mfor\u001b[0m \u001b[0mi\u001b[0m \u001b[0;32min\u001b[0m \u001b[0mrange\u001b[0m\u001b[0;34m(\u001b[0m\u001b[0;36m1\u001b[0m\u001b[0;34m,\u001b[0m \u001b[0;36m31\u001b[0m\u001b[0;34m)\u001b[0m\u001b[0;34m)\u001b[0m\u001b[0;34m)\u001b[0m\u001b[0;34m\u001b[0m\u001b[0;34m\u001b[0m\u001b[0m\n\u001b[1;32m      5\u001b[0m \u001b[0;34m\u001b[0m\u001b[0m\n",
            "\u001b[0;32m<ipython-input-20-6aa5993a00df>\u001b[0m in \u001b[0;36m<listcomp>\u001b[0;34m(.0)\u001b[0m\n\u001b[0;32m----> 1\u001b[0;31m \u001b[0mlis\u001b[0m \u001b[0;34m=\u001b[0m \u001b[0;34m[\u001b[0m\u001b[0mint\u001b[0m\u001b[0;34m(\u001b[0m\u001b[0minput\u001b[0m\u001b[0;34m(\u001b[0m\u001b[0;34m)\u001b[0m\u001b[0;34m)\u001b[0m \u001b[0;32mfor\u001b[0m \u001b[0m_\u001b[0m \u001b[0;32min\u001b[0m \u001b[0mrange\u001b[0m\u001b[0;34m(\u001b[0m\u001b[0;36m28\u001b[0m\u001b[0;34m)\u001b[0m\u001b[0;34m]\u001b[0m\u001b[0;34m\u001b[0m\u001b[0;34m\u001b[0m\u001b[0m\n\u001b[0m\u001b[1;32m      2\u001b[0m \u001b[0;34m\u001b[0m\u001b[0m\n\u001b[1;32m      3\u001b[0m \u001b[0;34m\u001b[0m\u001b[0m\n\u001b[1;32m      4\u001b[0m \u001b[0mlis2\u001b[0m \u001b[0;34m=\u001b[0m \u001b[0mset\u001b[0m\u001b[0;34m(\u001b[0m\u001b[0mlist\u001b[0m\u001b[0;34m(\u001b[0m\u001b[0mi\u001b[0m \u001b[0;32mfor\u001b[0m \u001b[0mi\u001b[0m \u001b[0;32min\u001b[0m \u001b[0mrange\u001b[0m\u001b[0;34m(\u001b[0m\u001b[0;36m1\u001b[0m\u001b[0;34m,\u001b[0m \u001b[0;36m31\u001b[0m\u001b[0;34m)\u001b[0m\u001b[0;34m)\u001b[0m\u001b[0;34m)\u001b[0m\u001b[0;34m\u001b[0m\u001b[0;34m\u001b[0m\u001b[0m\n\u001b[1;32m      5\u001b[0m \u001b[0;34m\u001b[0m\u001b[0m\n",
            "\u001b[0;32m/usr/local/lib/python3.10/dist-packages/ipykernel/kernelbase.py\u001b[0m in \u001b[0;36mraw_input\u001b[0;34m(self, prompt)\u001b[0m\n\u001b[1;32m    849\u001b[0m                 \u001b[0;34m\"raw_input was called, but this frontend does not support input requests.\"\u001b[0m\u001b[0;34m\u001b[0m\u001b[0;34m\u001b[0m\u001b[0m\n\u001b[1;32m    850\u001b[0m             )\n\u001b[0;32m--> 851\u001b[0;31m         return self._input_request(str(prompt),\n\u001b[0m\u001b[1;32m    852\u001b[0m             \u001b[0mself\u001b[0m\u001b[0;34m.\u001b[0m\u001b[0m_parent_ident\u001b[0m\u001b[0;34m,\u001b[0m\u001b[0;34m\u001b[0m\u001b[0;34m\u001b[0m\u001b[0m\n\u001b[1;32m    853\u001b[0m             \u001b[0mself\u001b[0m\u001b[0;34m.\u001b[0m\u001b[0m_parent_header\u001b[0m\u001b[0;34m,\u001b[0m\u001b[0;34m\u001b[0m\u001b[0;34m\u001b[0m\u001b[0m\n",
            "\u001b[0;32m/usr/local/lib/python3.10/dist-packages/ipykernel/kernelbase.py\u001b[0m in \u001b[0;36m_input_request\u001b[0;34m(self, prompt, ident, parent, password)\u001b[0m\n\u001b[1;32m    893\u001b[0m             \u001b[0;32mexcept\u001b[0m \u001b[0mKeyboardInterrupt\u001b[0m\u001b[0;34m:\u001b[0m\u001b[0;34m\u001b[0m\u001b[0;34m\u001b[0m\u001b[0m\n\u001b[1;32m    894\u001b[0m                 \u001b[0;31m# re-raise KeyboardInterrupt, to truncate traceback\u001b[0m\u001b[0;34m\u001b[0m\u001b[0;34m\u001b[0m\u001b[0m\n\u001b[0;32m--> 895\u001b[0;31m                 \u001b[0;32mraise\u001b[0m \u001b[0mKeyboardInterrupt\u001b[0m\u001b[0;34m(\u001b[0m\u001b[0;34m\"Interrupted by user\"\u001b[0m\u001b[0;34m)\u001b[0m \u001b[0;32mfrom\u001b[0m \u001b[0;32mNone\u001b[0m\u001b[0;34m\u001b[0m\u001b[0;34m\u001b[0m\u001b[0m\n\u001b[0m\u001b[1;32m    896\u001b[0m             \u001b[0;32mexcept\u001b[0m \u001b[0mException\u001b[0m \u001b[0;32mas\u001b[0m \u001b[0me\u001b[0m\u001b[0;34m:\u001b[0m\u001b[0;34m\u001b[0m\u001b[0;34m\u001b[0m\u001b[0m\n\u001b[1;32m    897\u001b[0m                 \u001b[0mself\u001b[0m\u001b[0;34m.\u001b[0m\u001b[0mlog\u001b[0m\u001b[0;34m.\u001b[0m\u001b[0mwarning\u001b[0m\u001b[0;34m(\u001b[0m\u001b[0;34m\"Invalid Message:\"\u001b[0m\u001b[0;34m,\u001b[0m \u001b[0mexc_info\u001b[0m\u001b[0;34m=\u001b[0m\u001b[0;32mTrue\u001b[0m\u001b[0;34m)\u001b[0m\u001b[0;34m\u001b[0m\u001b[0;34m\u001b[0m\u001b[0m\n",
            "\u001b[0;31mKeyboardInterrupt\u001b[0m: Interrupted by user"
          ]
        }
      ]
    },
    {
      "cell_type": "markdown",
      "source": [
        "# 3052. 나머지"
      ],
      "metadata": {
        "id": "FbZRtYVwvRAC"
      }
    },
    {
      "cell_type": "code",
      "source": [
        "lis = list(int(input())%42 for i in range(10)) # 42로 나누었을때 나머지 리스트로 저장\n",
        "\n",
        "print(len(set(lis))) # set() -> 중복 제거, len() -> 집합의 길이"
      ],
      "metadata": {
        "colab": {
          "base_uri": "https://localhost:8080/"
        },
        "id": "u4fShwgBsF77",
        "outputId": "e17d6495-2929-46e2-8f77-847b9bd0d530"
      },
      "execution_count": 23,
      "outputs": [
        {
          "output_type": "stream",
          "name": "stdout",
          "text": [
            "11\n",
            "11\n",
            "{11} 1\n"
          ]
        }
      ]
    },
    {
      "cell_type": "markdown",
      "source": [
        "# 10811. 바구니 뒤집기"
      ],
      "metadata": {
        "id": "WSKTRnnX0VKN"
      }
    },
    {
      "cell_type": "code",
      "source": [
        "N, M = map(int, input().split())\n",
        "\n",
        "buket = list(i for i in range(1, N+1))\n",
        "\n",
        "for _ in range(M):\n",
        "  i, j = map(int, input().split())\n",
        "  temp = buket[i-1:j]\n",
        "  temp.reverse()\n",
        "  buket[i-1:j] = temp\n",
        "\n",
        "for i in range(N):\n",
        "  print(buket[i], end=' ')"
      ],
      "metadata": {
        "colab": {
          "base_uri": "https://localhost:8080/"
        },
        "id": "i0anF_puvf8-",
        "outputId": "b3676ec7-7a79-4ce7-f6cc-2f2de0165cc0"
      },
      "execution_count": 24,
      "outputs": [
        {
          "output_type": "stream",
          "name": "stdout",
          "text": [
            "5 4\n",
            "1 2\n",
            "3 4\n",
            "1 4\n",
            "2 2\n",
            "34125"
          ]
        }
      ]
    },
    {
      "cell_type": "markdown",
      "source": [
        "# 1546. 평균"
      ],
      "metadata": {
        "id": "71A1AFKp13ah"
      }
    },
    {
      "cell_type": "code",
      "source": [
        "N = int(input())\n",
        "\n",
        "avg = list(map(int, input().split()))\n",
        "\n",
        "print(sum(avg)/max(avg)*100/N)"
      ],
      "metadata": {
        "colab": {
          "base_uri": "https://localhost:8080/"
        },
        "id": "FwlwEslj1do9",
        "outputId": "dfa01f2a-5e16-4ac7-b440-3d84bbd3a171"
      },
      "execution_count": 31,
      "outputs": [
        {
          "output_type": "stream",
          "name": "stdout",
          "text": [
            "3\n",
            "40 80 60\n",
            "75.0\n"
          ]
        }
      ]
    },
    {
      "cell_type": "code",
      "source": [
        "3\n"
      ],
      "metadata": {
        "id": "tdgDKUVv2UO8"
      },
      "execution_count": 30,
      "outputs": []
    }
  ]
}