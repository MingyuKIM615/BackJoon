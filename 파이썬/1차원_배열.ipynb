{
  "nbformat": 4,
  "nbformat_minor": 0,
  "metadata": {
    "colab": {
      "provenance": [],
      "authorship_tag": "ABX9TyM2Q1k4Sg3/um8MvXDiPjdI",
      "include_colab_link": true
    },
    "kernelspec": {
      "name": "python3",
      "display_name": "Python 3"
    },
    "language_info": {
      "name": "python"
    }
  },
  "cells": [
    {
      "cell_type": "markdown",
      "metadata": {
        "id": "view-in-github",
        "colab_type": "text"
      },
      "source": [
        "<a href=\"https://colab.research.google.com/github/MingyuKIM615/BaekJoon/blob/master/%ED%8C%8C%EC%9D%B4%EC%8D%AC/1%EC%B0%A8%EC%9B%90_%EB%B0%B0%EC%97%B4.ipynb\" target=\"_parent\"><img src=\"https://colab.research.google.com/assets/colab-badge.svg\" alt=\"Open In Colab\"/></a>"
      ]
    },
    {
      "cell_type": "markdown",
      "source": [
        "# 10807. 개수 세기\n",
        "* 총 N개의 정수가 주어졌을 때, 정수 v가 몇 개인지 구하는 프로그램을 작성하시오."
      ],
      "metadata": {
        "id": "8Ky2GO1CAIwt"
      }
    },
    {
      "cell_type": "code",
      "source": [
        "N = int(input())\n",
        "\n",
        "lst = list(input().split())\n",
        "\n",
        "v = input()\n",
        "\n",
        "cont = 0\n",
        "for i in lst:\n",
        "  if i == v:\n",
        "    cont +=1\n",
        "\n",
        "print(cont)"
      ],
      "metadata": {
        "colab": {
          "base_uri": "https://localhost:8080/"
        },
        "id": "QU_lvr3ZAJIn",
        "outputId": "eef9b477-abc7-46ad-a1b6-f0804f02fc03"
      },
      "execution_count": 3,
      "outputs": [
        {
          "output_type": "stream",
          "name": "stdout",
          "text": [
            "11\n",
            "1 4 1 2 4 2 4 2 3 4 4\n",
            "5\n",
            "0\n"
          ]
        }
      ]
    },
    {
      "cell_type": "code",
      "execution_count": null,
      "metadata": {
        "id": "e3_2lw6K_7UR"
      },
      "outputs": [],
      "source": [
        "# 파이썬적 사고.. count 이용하기!\n",
        "a = int(input())\n",
        "arr = list(map(int,input().split()))\n",
        "n = int(input())\n",
        "print(arr.count(n)) # count 리스트를 읽어서 몇개인지 알려줌"
      ]
    }
  ]
}