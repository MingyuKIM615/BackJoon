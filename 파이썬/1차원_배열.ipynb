{
  "nbformat": 4,
  "nbformat_minor": 0,
  "metadata": {
    "colab": {
      "provenance": [],
      "authorship_tag": "ABX9TyPqHvwY0fupndCKXpZHPBwi",
      "include_colab_link": true
    },
    "kernelspec": {
      "name": "python3",
      "display_name": "Python 3"
    },
    "language_info": {
      "name": "python"
    }
  },
  "cells": [
    {
      "cell_type": "markdown",
      "metadata": {
        "id": "view-in-github",
        "colab_type": "text"
      },
      "source": [
        "<a href=\"https://colab.research.google.com/github/MingyuKIM615/BaekJoon/blob/master/%ED%8C%8C%EC%9D%B4%EC%8D%AC/1%EC%B0%A8%EC%9B%90_%EB%B0%B0%EC%97%B4.ipynb\" target=\"_parent\"><img src=\"https://colab.research.google.com/assets/colab-badge.svg\" alt=\"Open In Colab\"/></a>"
      ]
    },
    {
      "cell_type": "markdown",
      "source": [
        "# 10807. 개수 세기\n",
        "* 총 N개의 정수가 주어졌을 때, 정수 v가 몇 개인지 구하는 프로그램을 작성하시오."
      ],
      "metadata": {
        "id": "8Ky2GO1CAIwt"
      }
    },
    {
      "cell_type": "code",
      "source": [
        "N = int(input())\n",
        "\n",
        "lst = list(input().split())\n",
        "\n",
        "v = input()\n",
        "\n",
        "cont = 0\n",
        "for i in lst:\n",
        "  if i == v:\n",
        "    cont +=1\n",
        "\n",
        "print(cont)"
      ],
      "metadata": {
        "colab": {
          "base_uri": "https://localhost:8080/"
        },
        "id": "QU_lvr3ZAJIn",
        "outputId": "eef9b477-abc7-46ad-a1b6-f0804f02fc03"
      },
      "execution_count": null,
      "outputs": [
        {
          "output_type": "stream",
          "name": "stdout",
          "text": [
            "11\n",
            "1 4 1 2 4 2 4 2 3 4 4\n",
            "5\n",
            "0\n"
          ]
        }
      ]
    },
    {
      "cell_type": "code",
      "execution_count": null,
      "metadata": {
        "id": "e3_2lw6K_7UR"
      },
      "outputs": [],
      "source": [
        "# 파이썬적 사고.. count 이용하기!\n",
        "a = int(input())\n",
        "arr = list(map(int,input().split()))\n",
        "n = int(input())\n",
        "print(arr.count(n)) # count 리스트를 읽어서 몇개인지 알려줌"
      ]
    },
    {
      "cell_type": "markdown",
      "source": [
        "# 10871. X보다 작은 수"
      ],
      "metadata": {
        "id": "IRZxU0S6FmeF"
      }
    },
    {
      "cell_type": "code",
      "source": [
        "N, X = map(int, input().split())\n",
        "arr = list(input().split())\n",
        "\n",
        "outMsg =\"\";\n",
        "\n",
        "for i in arr:\n",
        "  if int(i)<X:\n",
        "    outMsg = outMsg + \" \" + i\n",
        "print(outMsg.strip()) # strip() -> 양쪽 공백 제거"
      ],
      "metadata": {
        "colab": {
          "base_uri": "https://localhost:8080/"
        },
        "id": "t3G9wppYFqv6",
        "outputId": "c40331c5-bc70-4a05-df15-11bb5609eb4f"
      },
      "execution_count": 4,
      "outputs": [
        {
          "output_type": "stream",
          "name": "stdout",
          "text": [
            "10 5\n",
            "1 10 4 9 2 3 8 5 7 6\n",
            "1 4 2 3\n"
          ]
        }
      ]
    },
    {
      "cell_type": "code",
      "source": [
        "n, x = map(int, input().split())\n",
        "answer = ' '.join([i for i in input().split() if int(i) < x])\n",
        "# join : '구분자'.join(리스트) 예) ['a','b','c'] => 'abc' (리스트를 문자열로 합쳐서 변환)\n",
        "\n",
        "print(answer, end='')\n",
        "# sep : 기본값으로 공백이 들어가 있으며 출력문들 사이에 해당하는 내용을 넣을 수 있다.\n",
        "# end : 기본값으로 개행(\\n)이 들어가 있으며 출력을 완료한 뒤의 내용을 수정"
      ],
      "metadata": {
        "colab": {
          "base_uri": "https://localhost:8080/"
        },
        "id": "aQacpmYjGlF4",
        "outputId": "3fd2e651-64d7-4aca-ad83-ad2ccd835a42"
      },
      "execution_count": 6,
      "outputs": [
        {
          "output_type": "stream",
          "name": "stdout",
          "text": [
            "10 5\n",
            "1 10 4 9 2 3 8 5 7 6\n",
            "1 4 2 3\n"
          ]
        }
      ]
    },
    {
      "cell_type": "code",
      "source": [],
      "metadata": {
        "id": "gnIaH3AXLf8B"
      },
      "execution_count": null,
      "outputs": []
    }
  ]
}