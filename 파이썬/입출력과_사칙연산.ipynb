{
  "nbformat": 4,
  "nbformat_minor": 0,
  "metadata": {
    "colab": {
      "provenance": [],
      "toc_visible": true,
      "authorship_tag": "ABX9TyP9z4MV9PJu/tDQr4G5xDd2",
      "include_colab_link": true
    },
    "kernelspec": {
      "name": "python3",
      "display_name": "Python 3"
    },
    "language_info": {
      "name": "python"
    }
  },
  "cells": [
    {
      "cell_type": "markdown",
      "metadata": {
        "id": "view-in-github",
        "colab_type": "text"
      },
      "source": [
        "<a href=\"https://colab.research.google.com/github/MingyuKIM615/BaekJoon/blob/master/%ED%8C%8C%EC%9D%B4%EC%8D%AC/%EC%9E%85%EC%B6%9C%EB%A0%A5%EA%B3%BC_%EC%82%AC%EC%B9%99%EC%97%B0%EC%82%B0.ipynb\" target=\"_parent\"><img src=\"https://colab.research.google.com/assets/colab-badge.svg\" alt=\"Open In Colab\"/></a>"
      ]
    },
    {
      "cell_type": "markdown",
      "source": [
        "# 2557. Hellow World!를 출력하시오."
      ],
      "metadata": {
        "id": "HsjmUL1EB7-_"
      }
    },
    {
      "cell_type": "code",
      "execution_count": null,
      "metadata": {
        "colab": {
          "base_uri": "https://localhost:8080/"
        },
        "id": "p-Nf1DVT-M8y",
        "outputId": "13eae08b-1e67-40c3-d2e4-277565ef0b89"
      },
      "outputs": [
        {
          "output_type": "stream",
          "name": "stdout",
          "text": [
            "Hello World!\n"
          ]
        }
      ],
      "source": [
        "print('Hello World!');"
      ]
    },
    {
      "cell_type": "markdown",
      "source": [
        "# 1000. 두 정수 A와 B를 입력받은 다음, A+B를 출력하는 프로그램을 작성하시오."
      ],
      "metadata": {
        "id": "42So0fR0COd7"
      }
    },
    {
      "cell_type": "code",
      "source": [
        "a, b = map(int, input().split())\n",
        "print(a + b)"
      ],
      "metadata": {
        "id": "js-Ez1sn-TyV",
        "colab": {
          "base_uri": "https://localhost:8080/"
        },
        "outputId": "9354c3b2-a635-4331-bfbd-c42c7f8d1c3c"
      },
      "execution_count": null,
      "outputs": [
        {
          "output_type": "stream",
          "name": "stdout",
          "text": [
            "1 2\n",
            "3\n"
          ]
        }
      ]
    },
    {
      "cell_type": "code",
      "source": [
        "# input() 사용법\n",
        "a= input()\n",
        "print(a, type(a))\n",
        "\n",
        "# input() 실행시 입력란이 나오고 값을 넣으면 str로 저장된다."
      ],
      "metadata": {
        "colab": {
          "base_uri": "https://localhost:8080/"
        },
        "id": "geplsy7E-42f",
        "outputId": "865aa443-cb05-48d5-d897-de558b8cf863"
      },
      "execution_count": null,
      "outputs": [
        {
          "output_type": "stream",
          "name": "stdout",
          "text": [
            "123 4565\n",
            "123 4565 <class 'str'>\n"
          ]
        }
      ]
    },
    {
      "cell_type": "code",
      "source": [
        "# split() 사용법\n",
        "a = \"123 456\"\n",
        "b, c = a.split() # 원래는 list로 저장되지만 \"b, c=\"로 하면 각 리스트의 자리수에 해당하는 값을 세팅해준다.\n",
        "print(b, type(b))\n",
        "print(c, type(c))\n",
        "\n",
        "# split()은 문자에서 띄어쓰기일때 짤라주며 문자로 저장된다."
      ],
      "metadata": {
        "colab": {
          "base_uri": "https://localhost:8080/"
        },
        "id": "8p5ySNg0_siw",
        "outputId": "89bb815d-2203-40a0-9ffd-4b469fd45e71"
      },
      "execution_count": null,
      "outputs": [
        {
          "output_type": "stream",
          "name": "stdout",
          "text": [
            "123 <class 'str'>\n",
            "456 <class 'str'>\n"
          ]
        }
      ]
    },
    {
      "cell_type": "code",
      "source": [
        "a = \"123 456 789\".split() # 리스트로 세팅!\n",
        "print(list(a), type(a))"
      ],
      "metadata": {
        "colab": {
          "base_uri": "https://localhost:8080/"
        },
        "id": "0OotbZTVEO9c",
        "outputId": "be952bf8-727b-4ae6-aee9-3d02734c1e11"
      },
      "execution_count": null,
      "outputs": [
        {
          "output_type": "stream",
          "name": "stdout",
          "text": [
            "['123', '456', '789'] <class 'list'>\n"
          ]
        }
      ]
    },
    {
      "cell_type": "code",
      "source": [
        "# map 함수\n",
        "## map(function, iterable)\n",
        "## function: 각 요소에 적용할 함수입니다.\n",
        "## iterable: 함수를 적용할 데이터 집합입니다.\n",
        "\n",
        "a = map(int, [1.1,2.2,3.3])\n",
        "print(list(a))"
      ],
      "metadata": {
        "colab": {
          "base_uri": "https://localhost:8080/"
        },
        "id": "v_UJoQwcDFZx",
        "outputId": "e81ebb5d-6dd6-4ce0-f34b-34e9c2d8665a"
      },
      "execution_count": null,
      "outputs": [
        {
          "output_type": "stream",
          "name": "stdout",
          "text": [
            "[1, 2, 3]\n"
          ]
        }
      ]
    },
    {
      "cell_type": "code",
      "source": [],
      "metadata": {
        "id": "ubleYAReDulz"
      },
      "execution_count": null,
      "outputs": []
    }
  ]
}