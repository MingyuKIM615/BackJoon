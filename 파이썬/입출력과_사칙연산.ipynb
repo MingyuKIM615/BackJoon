{
  "nbformat": 4,
  "nbformat_minor": 0,
  "metadata": {
    "colab": {
      "provenance": [],
      "authorship_tag": "ABX9TyN1uPWi+S+TEDRA2lsIyDiw",
      "include_colab_link": true
    },
    "kernelspec": {
      "name": "python3",
      "display_name": "Python 3"
    },
    "language_info": {
      "name": "python"
    }
  },
  "cells": [
    {
      "cell_type": "markdown",
      "metadata": {
        "id": "view-in-github",
        "colab_type": "text"
      },
      "source": [
        "<a href=\"https://colab.research.google.com/github/MingyuKIM615/BaekJoon/blob/master/%ED%8C%8C%EC%9D%B4%EC%8D%AC/%EC%9E%85%EC%B6%9C%EB%A0%A5%EA%B3%BC_%EC%82%AC%EC%B9%99%EC%97%B0%EC%82%B0.ipynb\" target=\"_parent\"><img src=\"https://colab.research.google.com/assets/colab-badge.svg\" alt=\"Open In Colab\"/></a>"
      ]
    },
    {
      "cell_type": "markdown",
      "source": [
        "# 2557. Hellow World!를 출력하시오."
      ],
      "metadata": {
        "id": "HsjmUL1EB7-_"
      }
    },
    {
      "cell_type": "code",
      "execution_count": null,
      "metadata": {
        "colab": {
          "base_uri": "https://localhost:8080/"
        },
        "id": "p-Nf1DVT-M8y",
        "outputId": "13eae08b-1e67-40c3-d2e4-277565ef0b89"
      },
      "outputs": [
        {
          "output_type": "stream",
          "name": "stdout",
          "text": [
            "Hello World!\n"
          ]
        }
      ],
      "source": [
        "print('Hello World!');"
      ]
    },
    {
      "cell_type": "markdown",
      "source": [
        "# 1000. 두 정수 A와 B를 입력받은 다음, A+B를 출력하는 프로그램을 작성하시오."
      ],
      "metadata": {
        "id": "42So0fR0COd7"
      }
    },
    {
      "cell_type": "code",
      "source": [
        "a, b = map(int, input().split())\n",
        "print(a + b)"
      ],
      "metadata": {
        "id": "js-Ez1sn-TyV",
        "colab": {
          "base_uri": "https://localhost:8080/"
        },
        "outputId": "9354c3b2-a635-4331-bfbd-c42c7f8d1c3c"
      },
      "execution_count": null,
      "outputs": [
        {
          "output_type": "stream",
          "name": "stdout",
          "text": [
            "1 2\n",
            "3\n"
          ]
        }
      ]
    },
    {
      "cell_type": "code",
      "source": [
        "# input() 사용법\n",
        "a= input()\n",
        "print(a, type(a))\n",
        "\n",
        "# input() 실행시 입력란이 나오고 값을 넣으면 str로 저장된다."
      ],
      "metadata": {
        "colab": {
          "base_uri": "https://localhost:8080/"
        },
        "id": "geplsy7E-42f",
        "outputId": "865aa443-cb05-48d5-d897-de558b8cf863"
      },
      "execution_count": null,
      "outputs": [
        {
          "output_type": "stream",
          "name": "stdout",
          "text": [
            "123 4565\n",
            "123 4565 <class 'str'>\n"
          ]
        }
      ]
    },
    {
      "cell_type": "code",
      "source": [
        "# split() 사용법\n",
        "a = \"123 456\"\n",
        "b, c = a.split() # 원래는 list로 저장되지만 \"b, c=\"로 하면 각 리스트의 자리수에 해당하는 값을 세팅해준다.\n",
        "print(b, type(b))\n",
        "print(c, type(c))\n",
        "\n",
        "# split()은 문자에서 띄어쓰기일때 짤라주며 문자로 저장된다."
      ],
      "metadata": {
        "colab": {
          "base_uri": "https://localhost:8080/"
        },
        "id": "8p5ySNg0_siw",
        "outputId": "89bb815d-2203-40a0-9ffd-4b469fd45e71"
      },
      "execution_count": null,
      "outputs": [
        {
          "output_type": "stream",
          "name": "stdout",
          "text": [
            "123 <class 'str'>\n",
            "456 <class 'str'>\n"
          ]
        }
      ]
    },
    {
      "cell_type": "code",
      "source": [
        "a = \"123 456 789\".split() # 리스트로 세팅!\n",
        "print(list(a), type(a))"
      ],
      "metadata": {
        "colab": {
          "base_uri": "https://localhost:8080/"
        },
        "id": "0OotbZTVEO9c",
        "outputId": "be952bf8-727b-4ae6-aee9-3d02734c1e11"
      },
      "execution_count": null,
      "outputs": [
        {
          "output_type": "stream",
          "name": "stdout",
          "text": [
            "['123', '456', '789'] <class 'list'>\n"
          ]
        }
      ]
    },
    {
      "cell_type": "code",
      "source": [
        "# map 함수\n",
        "## map(function, iterable)\n",
        "## function: 각 요소에 적용할 함수입니다.\n",
        "## iterable: 함수를 적용할 데이터 집합입니다.\n",
        "\n",
        "a = map(int, [1.1,2.2,3.3])\n",
        "print(list(a))"
      ],
      "metadata": {
        "colab": {
          "base_uri": "https://localhost:8080/"
        },
        "id": "v_UJoQwcDFZx",
        "outputId": "e81ebb5d-6dd6-4ce0-f34b-34e9c2d8665a"
      },
      "execution_count": null,
      "outputs": [
        {
          "output_type": "stream",
          "name": "stdout",
          "text": [
            "[1, 2, 3]\n"
          ]
        }
      ]
    },
    {
      "cell_type": "markdown",
      "source": [
        "# 1001. 두 정수 A와 B를 입력받은 다음, A-B를 출력하는 프로그램을 작성하시오."
      ],
      "metadata": {
        "id": "sqvSqibo72S_"
      }
    },
    {
      "cell_type": "code",
      "source": [
        "a, b = map(int, input().split())\n",
        "print(a - b)"
      ],
      "metadata": {
        "colab": {
          "base_uri": "https://localhost:8080/"
        },
        "id": "Zk54-G7M7_l0",
        "outputId": "a07be4a1-ae28-41f2-d0c2-1b375db7f722"
      },
      "execution_count": null,
      "outputs": [
        {
          "output_type": "stream",
          "name": "stdout",
          "text": [
            "3 4\n",
            "-1\n"
          ]
        }
      ]
    },
    {
      "cell_type": "markdown",
      "source": [
        "# 10998. 두 정수 A와 B를 입력받은 다음, A×B를 출력하는 프로그램을 작성하시오."
      ],
      "metadata": {
        "id": "NS7lR5Nx8RO0"
      }
    },
    {
      "cell_type": "code",
      "source": [
        "a, b = map(int, input().split())\n",
        "print(a * b)"
      ],
      "metadata": {
        "colab": {
          "base_uri": "https://localhost:8080/"
        },
        "id": "WYe97loT8Dc0",
        "outputId": "1189e2e1-d42a-422c-aa92-a1aea5f7a570"
      },
      "execution_count": null,
      "outputs": [
        {
          "output_type": "stream",
          "name": "stdout",
          "text": [
            "2 3\n",
            "6\n"
          ]
        }
      ]
    },
    {
      "cell_type": "markdown",
      "source": [
        "# 1008. 두 정수 A와 B를 입력받은 다음, A/B를 출력하는 프로그램을 작성하시오."
      ],
      "metadata": {
        "id": "tZWImkaV8oW-"
      }
    },
    {
      "cell_type": "code",
      "source": [
        "a, b = map(int, input().split())\n",
        "print(a / b)"
      ],
      "metadata": {
        "colab": {
          "base_uri": "https://localhost:8080/"
        },
        "id": "g6J7_gcc8rtu",
        "outputId": "bc9c2283-0c5c-499b-b365-2159088d883b"
      },
      "execution_count": null,
      "outputs": [
        {
          "output_type": "stream",
          "name": "stdout",
          "text": [
            "4 5\n",
            "0.8\n"
          ]
        }
      ]
    },
    {
      "cell_type": "markdown",
      "source": [
        "# 10869. 두 자연수 A와 B가 주어진다. 이때, A+B, A-B, A*B, A/B(몫), A%B(나머지)를 출력하는 프로그램을 작성하시오."
      ],
      "metadata": {
        "id": "bkaoQkIF89TC"
      }
    },
    {
      "cell_type": "code",
      "source": [
        "a, b = map(int, input().split())\n",
        "print(a+b)\n",
        "print(a-b)\n",
        "print(a*b)\n",
        "print(a//b) # a // b -> 몫\n",
        "print(a%b)"
      ],
      "metadata": {
        "colab": {
          "base_uri": "https://localhost:8080/"
        },
        "id": "yYzH1n4u8ycX",
        "outputId": "ef958979-6d46-4850-f7d8-fb034e772493"
      },
      "execution_count": 5,
      "outputs": [
        {
          "output_type": "stream",
          "name": "stdout",
          "text": [
            "7 3\n",
            "10\n",
            "4\n",
            "21\n",
            "2\n",
            "1\n"
          ]
        }
      ]
    },
    {
      "cell_type": "markdown",
      "source": [
        "# 10926. 준하는 사이트에 회원가입을 하다가 joonas라는 아이디가 이미 존재하는 것을 보고 놀랐다. 준하는 놀람을 ??!로 표현한다. 준하가 가입하려고 하는 사이트에 이미 존재하는 아이디가 주어졌을 때, 놀람을 표현하는 프로그램을 작성하시오."
      ],
      "metadata": {
        "id": "rqKvnh2d99T3"
      }
    },
    {
      "cell_type": "code",
      "source": [
        "print(input()+\"??!\")"
      ],
      "metadata": {
        "id": "bAHak0wN9NfK",
        "colab": {
          "base_uri": "https://localhost:8080/"
        },
        "outputId": "e7c537d8-fa36-4fd3-bb73-a40166a88d49"
      },
      "execution_count": 8,
      "outputs": [
        {
          "output_type": "stream",
          "name": "stdout",
          "text": [
            "joonas\n",
            "joonas??!\n"
          ]
        }
      ]
    },
    {
      "cell_type": "markdown",
      "source": [
        "ICPC Bangkok Regional에 참가하기 위해 수완나품 국제공항에 막 도착한 팀 레드시프트 일행은 눈을 믿을 수 없었다. 공항의 대형 스크린에 올해가 2562년이라고 적혀 있던 것이었다.\n",
        "\n",
        "불교 국가인 태국은 불멸기원(佛滅紀元), 즉 석가모니가 열반한 해를 기준으로 연도를 세는 불기를 사용한다. 반면, 우리나라는 서기 연도를 사용하고 있다.\n",
        "# 18108. 불기 연도가 주어질 때 이를 서기 연도로 바꿔 주는 프로그램을 작성하시오."
      ],
      "metadata": {
        "id": "YtlodC6O-0Qb"
      }
    },
    {
      "cell_type": "code",
      "source": [
        "# 서기년도 : 예수그리스도가 태어난 해를 기원으로 하는 것이 서기\n",
        "# 불기년도 : 서기 + 544, 석가모니가 입멸한 해를 기원으로 하는 것이 불기\n",
        "# 단기년도 : 서기 + 2333, 단군이 개국하여 왕위에 오른 해를 기원으로 하는 것이 단기\n",
        "# 공기년도 : 서기 + 551, 공자가 태어난 해를 기원으로 하는 것이 공기\n",
        "\n",
        "print(int(input()) - 543)"
      ],
      "metadata": {
        "colab": {
          "base_uri": "https://localhost:8080/"
        },
        "id": "uitrJiQH-S05",
        "outputId": "d89a82c9-d88f-46d1-f46d-2b7cccf5a592"
      },
      "execution_count": 11,
      "outputs": [
        {
          "output_type": "stream",
          "name": "stdout",
          "text": [
            "2541\n",
            "1998\n"
          ]
        }
      ]
    },
    {
      "cell_type": "code",
      "source": [],
      "metadata": {
        "id": "7FjPlYQ0_5hU"
      },
      "execution_count": null,
      "outputs": []
    }
  ]
}