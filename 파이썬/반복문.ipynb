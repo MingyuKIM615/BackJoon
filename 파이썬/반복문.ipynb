{
  "nbformat": 4,
  "nbformat_minor": 0,
  "metadata": {
    "colab": {
      "provenance": [],
      "authorship_tag": "ABX9TyP+7Hr8mgiBsagrsIAUJ7ky",
      "include_colab_link": true
    },
    "kernelspec": {
      "name": "python3",
      "display_name": "Python 3"
    },
    "language_info": {
      "name": "python"
    }
  },
  "cells": [
    {
      "cell_type": "markdown",
      "metadata": {
        "id": "view-in-github",
        "colab_type": "text"
      },
      "source": [
        "<a href=\"https://colab.research.google.com/github/MingyuKIM615/BaekJoon/blob/master/%ED%8C%8C%EC%9D%B4%EC%8D%AC/%EB%B0%98%EB%B3%B5%EB%AC%B8.ipynb\" target=\"_parent\"><img src=\"https://colab.research.google.com/assets/colab-badge.svg\" alt=\"Open In Colab\"/></a>"
      ]
    },
    {
      "cell_type": "markdown",
      "source": [
        "# 2739. 구구단"
      ],
      "metadata": {
        "id": "yhT2yasWisSj"
      }
    },
    {
      "cell_type": "code",
      "execution_count": 2,
      "metadata": {
        "colab": {
          "base_uri": "https://localhost:8080/"
        },
        "id": "1PpaIAQRirhR",
        "outputId": "57f82c4b-1922-4b8d-d810-763b60079987"
      },
      "outputs": [
        {
          "output_type": "stream",
          "name": "stdout",
          "text": [
            "2\n",
            "2 * 1 = 2\n",
            "2 * 2 = 4\n",
            "2 * 3 = 6\n",
            "2 * 4 = 8\n",
            "2 * 5 = 10\n",
            "2 * 6 = 12\n",
            "2 * 7 = 14\n",
            "2 * 8 = 16\n",
            "2 * 9 = 18\n"
          ]
        }
      ],
      "source": [
        "N = int(input())\n",
        "\n",
        "for i in range(1,10):\n",
        "  print(N,\"*\",i,\"=\",i*N)"
      ]
    },
    {
      "cell_type": "markdown",
      "source": [
        "#10950. A+B-3"
      ],
      "metadata": {
        "id": "N_GfPJV8jZf5"
      }
    },
    {
      "cell_type": "code",
      "source": [
        "N = int(input())\n",
        "\n",
        "for i in range(1,N+1):\n",
        "  a, b = map(int, input().split())\n",
        "  print(a+b)"
      ],
      "metadata": {
        "colab": {
          "base_uri": "https://localhost:8080/"
        },
        "id": "juoVQEqRjDo4",
        "outputId": "c9926891-45e2-4b05-e68d-e9d11aad01aa"
      },
      "execution_count": 6,
      "outputs": [
        {
          "output_type": "stream",
          "name": "stdout",
          "text": [
            "5\n",
            "1 1\n",
            "2\n",
            "2 3\n",
            "5\n",
            "3 4\n",
            "7\n",
            "9 8\n",
            "17\n",
            "5 2\n",
            "7\n"
          ]
        }
      ]
    },
    {
      "cell_type": "markdown",
      "source": [
        "# 8393. 합"
      ],
      "metadata": {
        "id": "deiU_s9CkaDi"
      }
    },
    {
      "cell_type": "code",
      "source": [
        "n = int(input())\n",
        "sum = 0\n",
        "\n",
        "for i in range(1, n+1):\n",
        "  sum += i\n",
        "print(sum)"
      ],
      "metadata": {
        "colab": {
          "base_uri": "https://localhost:8080/"
        },
        "id": "KP-azo_mj2lE",
        "outputId": "25ceb964-7bd5-4c58-d497-9ac5917571d6"
      },
      "execution_count": 7,
      "outputs": [
        {
          "output_type": "stream",
          "name": "stdout",
          "text": [
            "3\n",
            "6\n"
          ]
        }
      ]
    },
    {
      "cell_type": "markdown",
      "source": [
        "# 25304. 영수증"
      ],
      "metadata": {
        "id": "yrTMJQFNkPQ0"
      }
    },
    {
      "cell_type": "code",
      "source": [
        "X = int(input())\n",
        "N = int(input())\n",
        "\n",
        "sum = 0\n",
        "\n",
        "for i in range(N):\n",
        "  a, b = map(int, input().split())\n",
        "  sum += a*b\n",
        "\n",
        "if X == sum:\n",
        "  print(\"Yes\")\n",
        "else:\n",
        "  print(\"No\")"
      ],
      "metadata": {
        "colab": {
          "base_uri": "https://localhost:8080/"
        },
        "id": "ZnIfE4KZlQNi",
        "outputId": "6e3f477c-7e20-4683-c054-cded9a246e58"
      },
      "execution_count": 10,
      "outputs": [
        {
          "output_type": "stream",
          "name": "stdout",
          "text": [
            "260000\n",
            "4\n",
            "20000 5\n",
            "30000 2\n",
            "10000 6\n",
            "5000 8\n",
            "Yes\n"
          ]
        }
      ]
    },
    {
      "cell_type": "markdown",
      "source": [
        "# 25314. 코딩은체육과목 입니다."
      ],
      "metadata": {
        "id": "qNk657Uvmwy6"
      }
    },
    {
      "cell_type": "code",
      "source": [
        "N = int(input())\n",
        "\n",
        "strInt = \"long int\"\n",
        "\n",
        "for i in range(4, N, 4):\n",
        "  strInt = \"long \" + strInt\n",
        "\n",
        "print(strInt)"
      ],
      "metadata": {
        "colab": {
          "base_uri": "https://localhost:8080/"
        },
        "id": "NLUYIkCAl4F8",
        "outputId": "5c7eb7c8-e4a3-46cb-d840-f2e56e685578"
      },
      "execution_count": 19,
      "outputs": [
        {
          "output_type": "stream",
          "name": "stdout",
          "text": [
            "20\n",
            "long long long long long int\n"
          ]
        }
      ]
    },
    {
      "cell_type": "markdown",
      "source": [
        "# 빠른 A+B\n",
        "* Python을 사용하고 있다면, input 대신 sys.stdin.readline을 사용할 수 있다. 단, 이때는 맨 끝의 개행문자까지 같이 입력받기 때문에 문자열을 저장하고 싶을 경우 .rstrip()을 추가로 해 주는 것이 좋다."
      ],
      "metadata": {
        "id": "Ri2SIxCcoXjM"
      }
    },
    {
      "cell_type": "code",
      "source": [
        "# 문자를 입력받는 input 함수 대신 sys 모듈 안의 stdin.readline 함수를 사용\n",
        "# stdin.readline 함수를 사용하면 시간이 단축되는 것을 볼 수 있다.\n",
        "\n",
        "import sys # sys모듈 읽어들이기\n",
        "\n",
        "t = int(sys.stdin.readline()) # sys.stdin.readline 함수를 사용한다.\n",
        "\n",
        "# t = int(intput()) # 위 문장을 input 함수로 입력 받았을 경우.\n",
        "\n",
        "# for문안에서 두 수를 입력받은 문장을 작성\n",
        "for _ in range(t):\n",
        "  a, b = map(int, sys.stdin.readline().split())\n",
        "  print(a + b)\n"
      ],
      "metadata": {
        "colab": {
          "base_uri": "https://localhost:8080/",
          "height": 246
        },
        "id": "X8be_V9knrar",
        "outputId": "34ec436f-769c-4cd4-8575-3f9b8b5941a7"
      },
      "execution_count": 21,
      "outputs": [
        {
          "output_type": "error",
          "ename": "ValueError",
          "evalue": "ignored",
          "traceback": [
            "\u001b[0;31m---------------------------------------------------------------------------\u001b[0m",
            "\u001b[0;31mValueError\u001b[0m                                Traceback (most recent call last)",
            "\u001b[0;32m<ipython-input-21-2dedc50af6b0>\u001b[0m in \u001b[0;36m<cell line: 6>\u001b[0;34m()\u001b[0m\n\u001b[1;32m      4\u001b[0m \u001b[0;32mimport\u001b[0m \u001b[0msys\u001b[0m \u001b[0;31m# sys모듈 읽어들이기\u001b[0m\u001b[0;34m\u001b[0m\u001b[0;34m\u001b[0m\u001b[0m\n\u001b[1;32m      5\u001b[0m \u001b[0;34m\u001b[0m\u001b[0m\n\u001b[0;32m----> 6\u001b[0;31m \u001b[0mt\u001b[0m \u001b[0;34m=\u001b[0m \u001b[0mint\u001b[0m\u001b[0;34m(\u001b[0m\u001b[0msys\u001b[0m\u001b[0;34m.\u001b[0m\u001b[0mstdin\u001b[0m\u001b[0;34m.\u001b[0m\u001b[0mreadline\u001b[0m\u001b[0;34m(\u001b[0m\u001b[0;34m)\u001b[0m\u001b[0;34m)\u001b[0m \u001b[0;31m# sys.stdin.readline 함수를 사용한다.\u001b[0m\u001b[0;34m\u001b[0m\u001b[0;34m\u001b[0m\u001b[0m\n\u001b[0m\u001b[1;32m      7\u001b[0m \u001b[0;34m\u001b[0m\u001b[0m\n\u001b[1;32m      8\u001b[0m \u001b[0;31m# t = int(intput()) # 위 문장을 input 함수로 입력 받았을 경우.\u001b[0m\u001b[0;34m\u001b[0m\u001b[0;34m\u001b[0m\u001b[0m\n",
            "\u001b[0;31mValueError\u001b[0m: invalid literal for int() with base 10: ''"
          ]
        }
      ]
    },
    {
      "cell_type": "markdown",
      "source": [
        "# 11021. A+B-7"
      ],
      "metadata": {
        "id": "OS198xx8rFUU"
      }
    },
    {
      "cell_type": "code",
      "source": [
        "T = int(input())\n",
        "\n",
        "for i in range(T):\n",
        "  a, b = map(int, input().split())\n",
        "  print(f\"Case #{i+1}: {a+b}\")"
      ],
      "metadata": {
        "colab": {
          "base_uri": "https://localhost:8080/"
        },
        "id": "khOH2dg5oCZg",
        "outputId": "bbad9906-c044-4579-e4d1-b607184c1e9a"
      },
      "execution_count": 23,
      "outputs": [
        {
          "output_type": "stream",
          "name": "stdout",
          "text": [
            "3\n",
            "1 1\n",
            "Case #1: 2\n",
            "2 2\n",
            "Case #2: 4\n",
            "3 3\n",
            "Case #3: 6\n"
          ]
        }
      ]
    },
    {
      "cell_type": "markdown",
      "source": [
        "# 11022. A+B-8"
      ],
      "metadata": {
        "id": "ptPPl7v4sRx4"
      }
    },
    {
      "cell_type": "code",
      "source": [
        "T = int(input())\n",
        "\n",
        "for i in range(T):\n",
        "  a, b = map(int, input().split())\n",
        "  print(f\"Case #{i+1}: {a} + {b} = {a+b}\")"
      ],
      "metadata": {
        "colab": {
          "base_uri": "https://localhost:8080/"
        },
        "id": "q0eWWwYkromw",
        "outputId": "ac399715-040e-4cf8-dee6-c315edff2a1f"
      },
      "execution_count": 24,
      "outputs": [
        {
          "output_type": "stream",
          "name": "stdout",
          "text": [
            "5\n",
            "1 1\n",
            "Case #1:1 + 1 = 2\n",
            "2 3\n",
            "Case #2:2 + 3 = 5\n",
            "3 4\n",
            "Case #3:3 + 4 = 7\n",
            "9 8\n",
            "Case #4:9 + 8 = 17\n",
            "5 2\n",
            "Case #5:5 + 2 = 7\n"
          ]
        }
      ]
    },
    {
      "cell_type": "markdown",
      "source": [
        "# 2438. 별 찍기 - 1"
      ],
      "metadata": {
        "id": "WI3O8yg0snF5"
      }
    },
    {
      "cell_type": "code",
      "source": [
        "N = int(input())\n",
        "\n",
        "for i in range(N):\n",
        "  print(\"*\"*(i+1))"
      ],
      "metadata": {
        "colab": {
          "base_uri": "https://localhost:8080/"
        },
        "id": "BXeQtFp7sb0x",
        "outputId": "fe50e19c-98e3-489c-ea05-1bad10a2ecd7"
      },
      "execution_count": 26,
      "outputs": [
        {
          "output_type": "stream",
          "name": "stdout",
          "text": [
            "5\n",
            "*\n",
            "**\n",
            "***\n",
            "****\n",
            "*****\n"
          ]
        }
      ]
    },
    {
      "cell_type": "markdown",
      "source": [
        "# 2439. 별 찍기 - 2"
      ],
      "metadata": {
        "id": "h5Qqo-mEs82U"
      }
    },
    {
      "cell_type": "code",
      "source": [
        "N = int(input())\n",
        "\n",
        "for i in range(N):\n",
        "  print(\" \"*(N-i-1)+\"*\"*(i+1))"
      ],
      "metadata": {
        "colab": {
          "base_uri": "https://localhost:8080/"
        },
        "id": "OxSTlxUHsvRR",
        "outputId": "3aa4542b-a1c9-477d-d361-f5bd0cf8248f"
      },
      "execution_count": 27,
      "outputs": [
        {
          "output_type": "stream",
          "name": "stdout",
          "text": [
            "5\n",
            "    *\n",
            "   **\n",
            "  ***\n",
            " ****\n",
            "*****\n"
          ]
        }
      ]
    },
    {
      "cell_type": "markdown",
      "source": [
        "# A+B-5"
      ],
      "metadata": {
        "id": "jrKPzQLYtqTR"
      }
    },
    {
      "cell_type": "code",
      "source": [
        "while True:\n",
        "  a, b = map(int, input().split())\n",
        "  if a==b==0:break\n",
        "  print(a+b)"
      ],
      "metadata": {
        "id": "DXlgU24FtduB"
      },
      "execution_count": null,
      "outputs": []
    },
    {
      "cell_type": "markdown",
      "source": [
        "# 10951. A+B-4"
      ],
      "metadata": {
        "id": "vMytZoxXuTR_"
      }
    },
    {
      "cell_type": "code",
      "source": [
        "while True:\n",
        "    try:\n",
        "        A, B = map(int, input().split())\n",
        "        print(A + B)\n",
        "    except:\n",
        "        break"
      ],
      "metadata": {
        "id": "pGXdHTcWuXCy"
      },
      "execution_count": null,
      "outputs": []
    }
  ]
}