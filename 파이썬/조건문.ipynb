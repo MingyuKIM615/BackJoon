{
  "nbformat": 4,
  "nbformat_minor": 0,
  "metadata": {
    "colab": {
      "provenance": [],
      "authorship_tag": "ABX9TyPdib2nEtZZNpS4QvjV+lUS",
      "include_colab_link": true
    },
    "kernelspec": {
      "name": "python3",
      "display_name": "Python 3"
    },
    "language_info": {
      "name": "python"
    }
  },
  "cells": [
    {
      "cell_type": "markdown",
      "metadata": {
        "id": "view-in-github",
        "colab_type": "text"
      },
      "source": [
        "<a href=\"https://colab.research.google.com/github/MingyuKIM615/BaekJoon/blob/master/%ED%8C%8C%EC%9D%B4%EC%8D%AC/%EC%A1%B0%EA%B1%B4%EB%AC%B8.ipynb\" target=\"_parent\"><img src=\"https://colab.research.google.com/assets/colab-badge.svg\" alt=\"Open In Colab\"/></a>"
      ]
    },
    {
      "cell_type": "markdown",
      "source": [
        "#1330. 두 수 비교하기\n",
        " 첫째 줄에 다음 세 가지 중 하나를 출력한다.\n",
        "\n",
        "* A가 B보다 큰 경우에는 '>'를 출력한다.\n",
        "* A가 B보다 작은 경우에는 '<'를 출력한다.\n",
        "* A와 B가 같은 경우에는 '=='를 출력한다."
      ],
      "metadata": {
        "id": "esWY4suFKiSd"
      }
    },
    {
      "cell_type": "code",
      "execution_count": 2,
      "metadata": {
        "colab": {
          "base_uri": "https://localhost:8080/"
        },
        "id": "Z-3iCK6zKenp",
        "outputId": "c8414778-cdb0-4dec-ea27-c283b7927ec1"
      },
      "outputs": [
        {
          "output_type": "stream",
          "name": "stdout",
          "text": [
            "1 2\n",
            "<\n"
          ]
        }
      ],
      "source": [
        "a, b= map(int, input().split())\n",
        "\n",
        "if a>b:\n",
        "  print(\">\")\n",
        "elif a == b:\n",
        "  print(\"==\")\n",
        "else:\n",
        "  print(\"<\")"
      ]
    },
    {
      "cell_type": "markdown",
      "source": [
        "#9498. 시험 성적\n",
        "시험 점수를 입력받아 90 ~ 100점은 A, 80 ~ 89점은 B, 70 ~ 79점은 C, 60 ~ 69점은 D, 나머지 점수는 F를 출력하는 프로그램을 작성하시오."
      ],
      "metadata": {
        "id": "YXXynhg4LmCu"
      }
    },
    {
      "cell_type": "code",
      "source": [
        "a = int(input())\n",
        "\n",
        "if a>=90:\n",
        "  print(\"A\")\n",
        "elif a>=80:\n",
        "  print(\"B\")\n",
        "elif a>=70:\n",
        "  print(\"C\")\n",
        "elif a>=60:\n",
        "  print(\"D\")\n",
        "else:\n",
        "  print(\"F\")"
      ],
      "metadata": {
        "colab": {
          "base_uri": "https://localhost:8080/"
        },
        "id": "u_8VuUxkLARU",
        "outputId": "239e9526-a1e5-489f-a6f3-fa54aa10ff9d"
      },
      "execution_count": 5,
      "outputs": [
        {
          "output_type": "stream",
          "name": "stdout",
          "text": [
            "100\n",
            "A\n"
          ]
        }
      ]
    },
    {
      "cell_type": "markdown",
      "source": [
        "# 2753. 윤년\n",
        "첫째 줄에 윤년이면 1, 아니면 0을 출력한다."
      ],
      "metadata": {
        "id": "pQ6uzgXrMi5v"
      }
    },
    {
      "cell_type": "code",
      "source": [
        "# 윤년은 연도가 4의 배수이면서, 100의 배수가 아닐 때 또는 400의 배수일 때이다.\n",
        "\n",
        "a = int(input())\n",
        "\n",
        "if a%4==0 and (a%100 != 0 or a%400==0):\n",
        "  print(\"1\")\n",
        "else:\n",
        "  print(\"0\")"
      ],
      "metadata": {
        "colab": {
          "base_uri": "https://localhost:8080/"
        },
        "id": "00QmviPkL3fW",
        "outputId": "146814f9-789a-4b97-8a41-1334a2ac8628"
      },
      "execution_count": 7,
      "outputs": [
        {
          "output_type": "stream",
          "name": "stdout",
          "text": [
            "2012\n",
            "1\n"
          ]
        }
      ]
    },
    {
      "cell_type": "markdown",
      "source": [
        "# 14681. 사분면 고르기\n",
        "* 입력 : 첫 줄에는 정수 x가 주어진다. (−1000 ≤ x ≤ 1000; x ≠ 0) 다음 줄에는 정수 y가 주어진다. (−1000 ≤ y ≤ 1000; y ≠ 0)\n",
        "\n",
        "* 출력 : 점 (x, y)의 사분면 번호(1, 2, 3, 4 중 하나)를 출력한다.\n",
        "\n"
      ],
      "metadata": {
        "id": "pY2PDkSgOgZC"
      }
    },
    {
      "cell_type": "code",
      "source": [
        "x = int(input())\n",
        "y = int(input())\n",
        "\n",
        "if x>0 and y > 0:\n",
        "  print(1)\n",
        "elif x>0 and y<0:\n",
        "  print(4)\n",
        "elif x<0 and y>0:\n",
        "  print(2)\n",
        "elif x<0 and y<0:\n",
        "  print(3)"
      ],
      "metadata": {
        "id": "9oyykKxWNSMl"
      },
      "execution_count": null,
      "outputs": []
    },
    {
      "cell_type": "markdown",
      "source": [
        "# 2884. 알람 시계"
      ],
      "metadata": {
        "id": "H8SR8kV7Pdm7"
      }
    },
    {
      "cell_type": "code",
      "source": [
        "h, m = map(int, input().split())\n",
        "\n",
        "if m >= 45:\n",
        "  m =m- 45\n",
        "else:\n",
        "  m = m+15\n",
        "  if h==0:\n",
        "    h = 23\n",
        "  else:\n",
        "    h= h - 1\n",
        "\n",
        "\n",
        "print(h, m)"
      ],
      "metadata": {
        "colab": {
          "base_uri": "https://localhost:8080/"
        },
        "id": "wqQ8tyS8QiZX",
        "outputId": "aecdf883-d3b3-4738-e6a8-91f4e999049d"
      },
      "execution_count": 14,
      "outputs": [
        {
          "output_type": "stream",
          "name": "stdout",
          "text": [
            "23 45\n",
            "23 0\n"
          ]
        }
      ]
    },
    {
      "cell_type": "markdown",
      "source": [
        "# 2525. 오븐 시계"
      ],
      "metadata": {
        "id": "3xLsH8iVTHpq"
      }
    },
    {
      "cell_type": "code",
      "source": [
        "#훈제오리구이를 시작하는 시각과 오븐구이를 하는 데 필요한 시간이 분단위로 주어졌을 때,\n",
        "#오븐구이가 끝나는 시각을 계산하는 프로그램을 작성하시오.\n",
        "\n",
        "h, m = map(int, input().split())\n",
        "t = int(input())\n",
        "\n",
        "if t + m < 60:\n",
        "  m = t+m\n",
        "else:\n",
        "  a = (t+m)//60 # 몫\n",
        "  m = (t+m) % 60 # 나머지\n",
        "  if a + h < 24:\n",
        "    h = a+h\n",
        "  else:\n",
        "    h = a + h -24\n",
        "print(h, m)"
      ],
      "metadata": {
        "colab": {
          "base_uri": "https://localhost:8080/"
        },
        "id": "ycScPlJzRnR2",
        "outputId": "d610059a-f48e-4abc-ddaa-93bf39d4a68d"
      },
      "execution_count": 21,
      "outputs": [
        {
          "output_type": "stream",
          "name": "stdout",
          "text": [
            "23 48\n",
            "12\n",
            "0 0\n"
          ]
        }
      ]
    },
    {
      "cell_type": "code",
      "source": [
        "# 위 코드 개선\n",
        "\n",
        "# 받는 법은 동일\n",
        "h, m = map(int, input().split())\n",
        "t = int(input())\n",
        "\n",
        "# 시간 : (시작 시간의 시간) + (주어진 시간(분)+ 시작 시간의 분을 60으로 나눴을 때 몫) => 24로 나눴을 때 나머지\n",
        "h = (h + (m+t)//60) % 24\n",
        "\n",
        "# 분 : 시작 시간의 분 + 주어진 시간(분) => 이 값에서 60으로 나눴을 때 나머지\n",
        "m = (t + m)% 60 # 나머지\n",
        "\n",
        "# 구한 시간, 분 출력\n",
        "print(h, m)"
      ],
      "metadata": {
        "colab": {
          "base_uri": "https://localhost:8080/"
        },
        "id": "qp_xMhAjWbSI",
        "outputId": "c0e2ea1a-6824-4e49-8ce7-2e8e74cae435"
      },
      "execution_count": 29,
      "outputs": [
        {
          "output_type": "stream",
          "name": "stdout",
          "text": [
            "23 40\n",
            "20\n",
            "0 0\n"
          ]
        }
      ]
    },
    {
      "cell_type": "markdown",
      "source": [
        "# 2480. 주사위 세개\n",
        "* 같은 눈이 3개가 나오면 10,000원+(같은 눈)×1,000원의 상금을 받게 된다.\n",
        "* 같은 눈이 2개만 나오는 경우에는 1,000원+(같은 눈)×100원의 상금을 받게 된다.\n",
        "* 모두 다른 눈이 나오는 경우에는 (그 중 가장 큰 눈)×100원의 상금을 받게 된다."
      ],
      "metadata": {
        "id": "aTn4HeWKZP8q"
      }
    },
    {
      "cell_type": "code",
      "source": [
        "a,b,c = map(int, input().split())\n",
        "\n",
        "if a != b and a != c and b !=c: # 모두 다른 눈이 나오는 경우\n",
        "  print(max(a, b, c) * 100)\n",
        "elif a== b and b == c: # 같은 눈이 3개 나오는 경우\n",
        "  print(10000 + a*1000)\n",
        "else:\n",
        "  if a==b:\n",
        "    print(1000 + a*100)\n",
        "  else:\n",
        "    print(1000 + c*100)"
      ],
      "metadata": {
        "colab": {
          "base_uri": "https://localhost:8080/"
        },
        "id": "5ksjcBo1YD6d",
        "outputId": "5acc57b7-ea55-4c8c-eb9f-94f806410518"
      },
      "execution_count": 33,
      "outputs": [
        {
          "output_type": "stream",
          "name": "stdout",
          "text": [
            "2 2 3\n",
            "1200\n"
          ]
        }
      ]
    },
    {
      "cell_type": "code",
      "source": [],
      "metadata": {
        "id": "gw-btNqeZqhR"
      },
      "execution_count": null,
      "outputs": []
    }
  ]
}