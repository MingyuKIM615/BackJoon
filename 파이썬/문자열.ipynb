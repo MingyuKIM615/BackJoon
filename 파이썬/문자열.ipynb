{
  "nbformat": 4,
  "nbformat_minor": 0,
  "metadata": {
    "colab": {
      "provenance": [],
      "authorship_tag": "ABX9TyOaRlao0FOKYc/CFFb69hva",
      "include_colab_link": true
    },
    "kernelspec": {
      "name": "python3",
      "display_name": "Python 3"
    },
    "language_info": {
      "name": "python"
    }
  },
  "cells": [
    {
      "cell_type": "markdown",
      "metadata": {
        "id": "view-in-github",
        "colab_type": "text"
      },
      "source": [
        "<a href=\"https://colab.research.google.com/github/MingyuKIM615/BaekJoon/blob/master/%ED%8C%8C%EC%9D%B4%EC%8D%AC/%EB%AC%B8%EC%9E%90%EC%97%B4.ipynb\" target=\"_parent\"><img src=\"https://colab.research.google.com/assets/colab-badge.svg\" alt=\"Open In Colab\"/></a>"
      ]
    },
    {
      "cell_type": "markdown",
      "source": [
        "#27866. 문자와 문자열"
      ],
      "metadata": {
        "id": "F5u-otV036S3"
      }
    },
    {
      "cell_type": "code",
      "execution_count": 4,
      "metadata": {
        "colab": {
          "base_uri": "https://localhost:8080/"
        },
        "id": "f8o9uCtJ32Z1",
        "outputId": "9cb92758-9276-4f61-90df-7dcfb2917be3"
      },
      "outputs": [
        {
          "output_type": "stream",
          "name": "stdout",
          "text": [
            "Sprout\n",
            "3\n",
            "r\n"
          ]
        }
      ],
      "source": [
        "s = input()\n",
        "i = int(input())\n",
        "\n",
        "print(s[i-1])"
      ]
    },
    {
      "cell_type": "markdown",
      "source": [
        "# 2743. 단어길이 재기"
      ],
      "metadata": {
        "id": "uxvNUcgA4ZmM"
      }
    },
    {
      "cell_type": "code",
      "source": [
        "alpha = input()\n",
        "\n",
        "print(len(alpha))"
      ],
      "metadata": {
        "colab": {
          "base_uri": "https://localhost:8080/"
        },
        "id": "NaY8XKIJ4IUL",
        "outputId": "508726dd-13bf-4936-8a7c-9c245d32c908"
      },
      "execution_count": 6,
      "outputs": [
        {
          "output_type": "stream",
          "name": "stdout",
          "text": [
            "pulljima\n",
            "8\n"
          ]
        }
      ]
    },
    {
      "cell_type": "markdown",
      "source": [
        "# 9086. 문자열"
      ],
      "metadata": {
        "id": "G4ULoG5H5Df5"
      }
    },
    {
      "cell_type": "code",
      "source": [
        "n = int(input())\n",
        "\n",
        "for _ in range(n):\n",
        "  s = list(input())\n",
        "  print(s[0]+s[-1]) # 첫번째, 마지막 문자\n"
      ],
      "metadata": {
        "colab": {
          "base_uri": "https://localhost:8080/"
        },
        "id": "I4_WMHRY4ulU",
        "outputId": "bdf2b2d1-2ff9-493c-e9c8-2fbf920ef6f7"
      },
      "execution_count": 11,
      "outputs": [
        {
          "output_type": "stream",
          "name": "stdout",
          "text": [
            "3\n",
            "ACDKJFOWIEGHE\n",
            "O\n",
            "AB\n",
            "AC\n",
            "OO\n",
            "AB\n"
          ]
        }
      ]
    },
    {
      "cell_type": "code",
      "source": [
        "s = \"o\"\n",
        "if len(s) < 2:\n",
        "  s+=s\n",
        "  print(s[:2])"
      ],
      "metadata": {
        "colab": {
          "base_uri": "https://localhost:8080/"
        },
        "id": "U7oCPdEI5hoK",
        "outputId": "78adf4ae-c402-443d-823e-936a345f4bc1"
      },
      "execution_count": 9,
      "outputs": [
        {
          "output_type": "stream",
          "name": "stdout",
          "text": [
            "oo\n"
          ]
        }
      ]
    },
    {
      "cell_type": "markdown",
      "source": [
        "# 11654. 아스키 코드"
      ],
      "metadata": {
        "id": "bwPLNJIr7VEr"
      }
    },
    {
      "cell_type": "code",
      "source": [
        "# ord(문자) : 아스키코드를 반환\n",
        "# chr(숫자) : 숫자에 맞는 아스키코드를 반환\n",
        "\n",
        "print(ord(input()))"
      ],
      "metadata": {
        "colab": {
          "base_uri": "https://localhost:8080/"
        },
        "id": "-F7dp14F5pPb",
        "outputId": "378727e9-1ce9-4b17-d57e-7491c9c83ac8"
      },
      "execution_count": 12,
      "outputs": [
        {
          "output_type": "stream",
          "name": "stdout",
          "text": [
            "A\n",
            "65\n"
          ]
        }
      ]
    },
    {
      "cell_type": "markdown",
      "source": [
        "# 11720. 숫자의 합"
      ],
      "metadata": {
        "id": "ZjWJPTXk9bz9"
      }
    },
    {
      "cell_type": "code",
      "source": [
        "N = int(input())\n",
        "sum = 0\n",
        "for i in input():\n",
        "  sum += int(i)\n",
        "\n",
        "print(sum)"
      ],
      "metadata": {
        "colab": {
          "base_uri": "https://localhost:8080/"
        },
        "id": "7hc-sctT9Exw",
        "outputId": "7ce754a9-c3c1-4dc5-8277-f3328ad16775"
      },
      "execution_count": 13,
      "outputs": [
        {
          "output_type": "stream",
          "name": "stdout",
          "text": [
            "5\n",
            "12345\n",
            "15\n"
          ]
        }
      ]
    },
    {
      "cell_type": "code",
      "source": [],
      "metadata": {
        "id": "wDEe9wra91si"
      },
      "execution_count": null,
      "outputs": []
    }
  ]
}