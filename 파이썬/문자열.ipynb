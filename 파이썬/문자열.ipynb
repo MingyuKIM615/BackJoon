{
  "nbformat": 4,
  "nbformat_minor": 0,
  "metadata": {
    "colab": {
      "provenance": [],
      "authorship_tag": "ABX9TyPlk2D02ZsCYIEUsxWzsCS3",
      "include_colab_link": true
    },
    "kernelspec": {
      "name": "python3",
      "display_name": "Python 3"
    },
    "language_info": {
      "name": "python"
    }
  },
  "cells": [
    {
      "cell_type": "markdown",
      "metadata": {
        "id": "view-in-github",
        "colab_type": "text"
      },
      "source": [
        "<a href=\"https://colab.research.google.com/github/MingyuKIM615/BaekJoon/blob/master/%ED%8C%8C%EC%9D%B4%EC%8D%AC/%EB%AC%B8%EC%9E%90%EC%97%B4.ipynb\" target=\"_parent\"><img src=\"https://colab.research.google.com/assets/colab-badge.svg\" alt=\"Open In Colab\"/></a>"
      ]
    },
    {
      "cell_type": "markdown",
      "source": [
        "#27866. 문자와 문자열"
      ],
      "metadata": {
        "id": "F5u-otV036S3"
      }
    },
    {
      "cell_type": "code",
      "execution_count": null,
      "metadata": {
        "colab": {
          "base_uri": "https://localhost:8080/"
        },
        "id": "f8o9uCtJ32Z1",
        "outputId": "9cb92758-9276-4f61-90df-7dcfb2917be3"
      },
      "outputs": [
        {
          "output_type": "stream",
          "name": "stdout",
          "text": [
            "Sprout\n",
            "3\n",
            "r\n"
          ]
        }
      ],
      "source": [
        "s = input()\n",
        "i = int(input())\n",
        "\n",
        "print(s[i-1])"
      ]
    },
    {
      "cell_type": "markdown",
      "source": [
        "# 2743. 단어길이 재기"
      ],
      "metadata": {
        "id": "uxvNUcgA4ZmM"
      }
    },
    {
      "cell_type": "code",
      "source": [
        "alpha = input()\n",
        "\n",
        "print(len(alpha))"
      ],
      "metadata": {
        "colab": {
          "base_uri": "https://localhost:8080/"
        },
        "id": "NaY8XKIJ4IUL",
        "outputId": "508726dd-13bf-4936-8a7c-9c245d32c908"
      },
      "execution_count": null,
      "outputs": [
        {
          "output_type": "stream",
          "name": "stdout",
          "text": [
            "pulljima\n",
            "8\n"
          ]
        }
      ]
    },
    {
      "cell_type": "markdown",
      "source": [
        "# 9086. 문자열"
      ],
      "metadata": {
        "id": "G4ULoG5H5Df5"
      }
    },
    {
      "cell_type": "code",
      "source": [
        "n = int(input())\n",
        "\n",
        "for _ in range(n):\n",
        "  s = list(input())\n",
        "  print(s[0]+s[-1]) # 첫번째, 마지막 문자\n"
      ],
      "metadata": {
        "colab": {
          "base_uri": "https://localhost:8080/"
        },
        "id": "I4_WMHRY4ulU",
        "outputId": "bdf2b2d1-2ff9-493c-e9c8-2fbf920ef6f7"
      },
      "execution_count": null,
      "outputs": [
        {
          "output_type": "stream",
          "name": "stdout",
          "text": [
            "3\n",
            "ACDKJFOWIEGHE\n",
            "O\n",
            "AB\n",
            "AC\n",
            "OO\n",
            "AB\n"
          ]
        }
      ]
    },
    {
      "cell_type": "code",
      "source": [
        "s = \"o\"\n",
        "if len(s) < 2:\n",
        "  s+=s\n",
        "  print(s[:2])"
      ],
      "metadata": {
        "colab": {
          "base_uri": "https://localhost:8080/"
        },
        "id": "U7oCPdEI5hoK",
        "outputId": "78adf4ae-c402-443d-823e-936a345f4bc1"
      },
      "execution_count": null,
      "outputs": [
        {
          "output_type": "stream",
          "name": "stdout",
          "text": [
            "oo\n"
          ]
        }
      ]
    },
    {
      "cell_type": "markdown",
      "source": [
        "# 11654. 아스키 코드"
      ],
      "metadata": {
        "id": "bwPLNJIr7VEr"
      }
    },
    {
      "cell_type": "code",
      "source": [
        "# ord(문자) : 아스키코드를 반환\n",
        "# chr(숫자) : 숫자에 맞는 아스키코드를 반환\n",
        "\n",
        "print(ord(input()))"
      ],
      "metadata": {
        "colab": {
          "base_uri": "https://localhost:8080/"
        },
        "id": "-F7dp14F5pPb",
        "outputId": "378727e9-1ce9-4b17-d57e-7491c9c83ac8"
      },
      "execution_count": null,
      "outputs": [
        {
          "output_type": "stream",
          "name": "stdout",
          "text": [
            "A\n",
            "65\n"
          ]
        }
      ]
    },
    {
      "cell_type": "markdown",
      "source": [
        "# 11720. 숫자의 합"
      ],
      "metadata": {
        "id": "ZjWJPTXk9bz9"
      }
    },
    {
      "cell_type": "code",
      "source": [
        "N = int(input())\n",
        "sum = 0\n",
        "for i in input():\n",
        "  sum += int(i)\n",
        "\n",
        "print(sum)"
      ],
      "metadata": {
        "colab": {
          "base_uri": "https://localhost:8080/"
        },
        "id": "7hc-sctT9Exw",
        "outputId": "7ce754a9-c3c1-4dc5-8277-f3328ad16775"
      },
      "execution_count": null,
      "outputs": [
        {
          "output_type": "stream",
          "name": "stdout",
          "text": [
            "5\n",
            "12345\n",
            "15\n"
          ]
        }
      ]
    },
    {
      "cell_type": "markdown",
      "source": [
        "# 10809. 알파벳 찾기"
      ],
      "metadata": {
        "id": "J9Wa82XvWmwD"
      }
    },
    {
      "cell_type": "code",
      "source": [
        "S = input()\n",
        "alphabet = list(range(97,123)) # 아스키코드 숫자 범위\n",
        "\n",
        "for x in alphabet:\n",
        "  print(S.find(chr(x))) ## find함수는 찾는 문자가 문자열 안에 포함되지 않은 경우 -1을 출력하지만 index함수는 AttributeError가 발생"
      ],
      "metadata": {
        "id": "wDEe9wra91si",
        "colab": {
          "base_uri": "https://localhost:8080/"
        },
        "outputId": "e04750b1-d770-4f1f-a089-e9f25d04026a"
      },
      "execution_count": 1,
      "outputs": [
        {
          "output_type": "stream",
          "name": "stdout",
          "text": [
            "boe\n",
            "[97, 98, 99, 100, 101, 102, 103, 104, 105, 106, 107, 108, 109, 110, 111, 112, 113, 114, 115, 116, 117, 118, 119, 120, 121, 122]\n"
          ]
        }
      ]
    },
    {
      "cell_type": "code",
      "source": [
        "s = \"abc\"\n",
        "\n",
        "print(s.find(\"a\"))\n",
        "print(s.index(\"a\"))\n",
        "#없는 경우\n",
        "print(s.find(\"d\"))\n",
        "print(s.index(\"d\"))"
      ],
      "metadata": {
        "colab": {
          "base_uri": "https://localhost:8080/",
          "height": 264
        },
        "id": "IrzxZqPeXXMG",
        "outputId": "29e66cae-cc2c-44d9-8ae0-4a7ddafbf804"
      },
      "execution_count": 6,
      "outputs": [
        {
          "output_type": "stream",
          "name": "stdout",
          "text": [
            "0\n",
            "0\n",
            "-1\n"
          ]
        },
        {
          "output_type": "error",
          "ename": "ValueError",
          "evalue": "ignored",
          "traceback": [
            "\u001b[0;31m---------------------------------------------------------------------------\u001b[0m",
            "\u001b[0;31mValueError\u001b[0m                                Traceback (most recent call last)",
            "\u001b[0;32m<ipython-input-6-57aff1a0d915>\u001b[0m in \u001b[0;36m<cell line: 7>\u001b[0;34m()\u001b[0m\n\u001b[1;32m      5\u001b[0m \u001b[0;31m#없는 경우\u001b[0m\u001b[0;34m\u001b[0m\u001b[0;34m\u001b[0m\u001b[0m\n\u001b[1;32m      6\u001b[0m \u001b[0mprint\u001b[0m\u001b[0;34m(\u001b[0m\u001b[0ms\u001b[0m\u001b[0;34m.\u001b[0m\u001b[0mfind\u001b[0m\u001b[0;34m(\u001b[0m\u001b[0;34m\"d\"\u001b[0m\u001b[0;34m)\u001b[0m\u001b[0;34m)\u001b[0m\u001b[0;34m\u001b[0m\u001b[0;34m\u001b[0m\u001b[0m\n\u001b[0;32m----> 7\u001b[0;31m \u001b[0mprint\u001b[0m\u001b[0;34m(\u001b[0m\u001b[0ms\u001b[0m\u001b[0;34m.\u001b[0m\u001b[0mindex\u001b[0m\u001b[0;34m(\u001b[0m\u001b[0;34m\"d\"\u001b[0m\u001b[0;34m)\u001b[0m\u001b[0;34m)\u001b[0m\u001b[0;34m\u001b[0m\u001b[0;34m\u001b[0m\u001b[0m\n\u001b[0m",
            "\u001b[0;31mValueError\u001b[0m: substring not found"
          ]
        }
      ]
    },
    {
      "cell_type": "markdown",
      "source": [
        "# 2675. 문자열 반복"
      ],
      "metadata": {
        "id": "3nGwpe1gYpWn"
      }
    },
    {
      "cell_type": "code",
      "source": [
        "T = int(input())\n",
        "\n",
        "for _ in range(T):\n",
        "  R, S = input().split()\n",
        "  R = int(R)\n",
        "\n",
        "  for i in S:\n",
        "    print(i*R, end='')\n",
        "  print('')\n"
      ],
      "metadata": {
        "colab": {
          "base_uri": "https://localhost:8080/"
        },
        "id": "SlsnGaUnYNLN",
        "outputId": "cb2e659d-72df-4a81-ee9c-2ee5e7700c93"
      },
      "execution_count": 7,
      "outputs": [
        {
          "output_type": "stream",
          "name": "stdout",
          "text": [
            "1\n",
            "2 abc\n",
            "aabbcc\n"
          ]
        }
      ]
    },
    {
      "cell_type": "markdown",
      "source": [
        "# 1152. 단어의 개수"
      ],
      "metadata": {
        "id": "LH_pEWlvaQer"
      }
    },
    {
      "cell_type": "code",
      "source": [
        "S = list(input().split())\n",
        "print(len(S))"
      ],
      "metadata": {
        "colab": {
          "base_uri": "https://localhost:8080/"
        },
        "id": "WcBgQPmSaFxo",
        "outputId": "e7583773-20bd-4593-8c05-48e321ca492e"
      },
      "execution_count": 8,
      "outputs": [
        {
          "output_type": "stream",
          "name": "stdout",
          "text": [
            "The Curious Case of Benjamin Button\n",
            "6\n"
          ]
        }
      ]
    },
    {
      "cell_type": "markdown",
      "source": [
        "# 2908. 상수"
      ],
      "metadata": {
        "id": "M5cWXXyjanYM"
      }
    },
    {
      "cell_type": "code",
      "source": [
        "A, B = input().split()\n",
        "\n",
        "A2 = int(A[::-1])\n",
        "B2 = int(B[::-1])\n",
        "\n",
        "if A2>B2:\n",
        "  print(A2)\n",
        "else:\n",
        "  print(B2)"
      ],
      "metadata": {
        "colab": {
          "base_uri": "https://localhost:8080/"
        },
        "id": "jH7Mrvx8af6s",
        "outputId": "95f0cac2-a0d2-48e6-deaa-516b28b8a555"
      },
      "execution_count": 9,
      "outputs": [
        {
          "output_type": "stream",
          "name": "stdout",
          "text": [
            "123 456\n",
            "654\n"
          ]
        }
      ]
    },
    {
      "cell_type": "markdown",
      "source": [
        "# 5622. 다이얼"
      ],
      "metadata": {
        "id": "BAD5UQ3kb43S"
      }
    },
    {
      "cell_type": "code",
      "source": [
        "dial = ['ABC', 'DEF', 'GHI', 'JKL', 'MNO', 'PQRS', 'TUV', 'WXYZ']\n",
        "\n",
        "a = input()\n",
        "\n",
        "sum = 0\n",
        "\n",
        "for i in range(len(a)):\n",
        "  for j in dial:\n",
        "    if a[i] in j:\n",
        "      sum += dial.index(j) + 3\n",
        "\n",
        "print(sum)"
      ],
      "metadata": {
        "colab": {
          "base_uri": "https://localhost:8080/"
        },
        "id": "zl5bSFcCbrXB",
        "outputId": "57e94bdb-ef09-4a8e-baf1-1df51e56a760"
      },
      "execution_count": 14,
      "outputs": [
        {
          "output_type": "stream",
          "name": "stdout",
          "text": [
            "WA\n",
            "13\n"
          ]
        }
      ]
    },
    {
      "cell_type": "code",
      "source": [
        "dial = ['ABC', 'DEF', 'GHI', 'JKL', 'MNO', 'PQRS', 'TUV', 'WXYZ']\n",
        "\n",
        "print(dial.index('DEF'))"
      ],
      "metadata": {
        "colab": {
          "base_uri": "https://localhost:8080/"
        },
        "id": "SWyQPvfGdwAs",
        "outputId": "53555bf6-3d45-402a-afa0-d1c4d03ebe82"
      },
      "execution_count": 16,
      "outputs": [
        {
          "output_type": "stream",
          "name": "stdout",
          "text": [
            "1\n"
          ]
        }
      ]
    },
    {
      "cell_type": "markdown",
      "source": [
        "# 11718. 그대로 출력하기"
      ],
      "metadata": {
        "id": "xq8U2qU_jFoQ"
      }
    },
    {
      "cell_type": "code",
      "source": [
        "while True:\n",
        "  try:\n",
        "    print(input())\n",
        "  except EOFError:# EOF(End Of File: 입력값이 없어지는 상)\n",
        "    break"
      ],
      "metadata": {
        "colab": {
          "base_uri": "https://localhost:8080/"
        },
        "id": "A4XGARP5eWNZ",
        "outputId": "24a3406e-362a-4d0e-d15e-845a7de06d03"
      },
      "execution_count": 2,
      "outputs": [
        {
          "name": "stdout",
          "output_type": "stream",
          "text": [
            "abc\n",
            "abc\n",
            "bdc\n",
            "bdc\n",
            "\n",
            "\n",
            "\n",
            "\n",
            "\n",
            "\n",
            "\n",
            "\n",
            "\u0004\n"
          ]
        }
      ]
    },
    {
      "cell_type": "code",
      "source": [],
      "metadata": {
        "id": "sbMIbwwSjvDN"
      },
      "execution_count": null,
      "outputs": []
    }
  ]
}