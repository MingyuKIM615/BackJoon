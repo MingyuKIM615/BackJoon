{
  "nbformat": 4,
  "nbformat_minor": 0,
  "metadata": {
    "colab": {
      "name": " 1차원 배열.ipynb",
      "provenance": [],
      "collapsed_sections": [],
      "authorship_tag": "ABX9TyMRpzYjh+vAA4YlruYr6c0N",
      "include_colab_link": true
    },
    "kernelspec": {
      "name": "python3",
      "display_name": "Python 3"
    },
    "language_info": {
      "name": "python"
    }
  },
  "cells": [
    {
      "cell_type": "markdown",
      "metadata": {
        "id": "view-in-github",
        "colab_type": "text"
      },
      "source": [
        "<a href=\"https://colab.research.google.com/github/MingyuKIM615/BaekJoon/blob/master/1%EC%B0%A8%EC%9B%90_%EB%B0%B0%EC%97%B4.ipynb\" target=\"_parent\"><img src=\"https://colab.research.google.com/assets/colab-badge.svg\" alt=\"Open In Colab\"/></a>"
      ]
    },
    {
      "cell_type": "markdown",
      "source": [
        "# 최소, 최대(10818)"
      ],
      "metadata": {
        "id": "iH5vwX_TlBR_"
      }
    },
    {
      "cell_type": "code",
      "execution_count": null,
      "metadata": {
        "colab": {
          "base_uri": "https://localhost:8080/"
        },
        "id": "kgUwKceGk-Jc",
        "outputId": "88ca0509-a9a2-4365-85ca-288ec5294916"
      },
      "outputs": [
        {
          "output_type": "stream",
          "name": "stdout",
          "text": [
            "5\n",
            "20 10 35 30 7\n",
            "7 35\n"
          ]
        }
      ],
      "source": [
        "N = int(input())\n",
        "\n",
        "num = input()\n",
        "\n",
        "num_list = []\n",
        "num_list.extend(num.split())\n",
        "\n",
        "list = []\n",
        "\n",
        "for i in num_list:\n",
        "  list.append(int(i))\n",
        "\n",
        "result = f'{min(list)} {max(list)}'\n",
        "print(result)"
      ]
    },
    {
      "cell_type": "markdown",
      "source": [
        "# 최댓값(2562)"
      ],
      "metadata": {
        "id": "DMFuO2U36oVr"
      }
    },
    {
      "cell_type": "code",
      "source": [
        "A = int(input())\n",
        "B = int(input())\n",
        "C = int(input())\n",
        "D = int(input())\n",
        "E = int(input())\n",
        "F = int(input())\n",
        "G = int(input())\n",
        "H = int(input())\n",
        "I = int(input())\n",
        "\n",
        "list = []\n",
        "\n",
        "list.extend([A, B, C, D, E, F, G, H, I])\n",
        "\n",
        "max = A\n",
        "cnt=1\n",
        "for i in range(9):\n",
        "  if list[i] > max:\n",
        "    max = list[i]\n",
        "    cnt = (i+1)\n",
        "\n",
        "print(max)\n",
        "print(cnt)"
      ],
      "metadata": {
        "colab": {
          "base_uri": "https://localhost:8080/"
        },
        "id": "eqlewc-DmteF",
        "outputId": "cf596325-911a-49df-b7a0-2ff2d97d78bd"
      },
      "execution_count": null,
      "outputs": [
        {
          "output_type": "stream",
          "name": "stdout",
          "text": [
            "3\n",
            "29\n",
            "38\n",
            "12\n",
            "57\n",
            "74\n",
            "40\n",
            "85\n",
            "61\n",
            "85\n",
            "8\n"
          ]
        }
      ]
    },
    {
      "cell_type": "markdown",
      "source": [
        "# 숫자의 개수(2577)"
      ],
      "metadata": {
        "id": "zEEzn5ddAhTy"
      }
    },
    {
      "cell_type": "code",
      "source": [
        "A = int(input())\n",
        "B = int(input())\n",
        "C = int(input())\n",
        "x = A * B * C\n",
        "cnt_0 = 0\n",
        "cnt_1 = 0\n",
        "cnt_2 = 0\n",
        "cnt_3 = 0\n",
        "cnt_4 = 0\n",
        "cnt_5 = 0\n",
        "cnt_6 = 0\n",
        "cnt_7 = 0\n",
        "cnt_8 = 0\n",
        "cnt_9 = 0\n",
        "while x >= 1:\n",
        "    if x % 10 == 0:\n",
        "        cnt_0 += 1\n",
        "    elif x % 10 == 1:\n",
        "        cnt_1 += 1\n",
        "    elif x % 10 == 2:\n",
        "        cnt_2 += 1\n",
        "    elif x % 10 == 3:\n",
        "        cnt_3 += 1\n",
        "    elif x % 10 == 4:\n",
        "        cnt_4 += 1\n",
        "    elif x % 10 == 5:\n",
        "        cnt_5 += 1\n",
        "    elif x % 10 == 6:\n",
        "        cnt_6 += 1\n",
        "    elif x % 10 == 7:\n",
        "        cnt_7 += 1\n",
        "    elif x % 10 == 8:\n",
        "        cnt_8 += 1\n",
        "    else:\n",
        "        cnt_9 += 1\n",
        "    x = int(x / 10)\n",
        "\n",
        "list = [cnt_0, cnt_1, cnt_2, cnt_3, cnt_4, cnt_5, cnt_6, cnt_7, cnt_8, cnt_9]\n",
        "for i in list:\n",
        "    print(i)"
      ],
      "metadata": {
        "colab": {
          "base_uri": "https://localhost:8080/"
        },
        "id": "E1HOuS5W9eXE",
        "outputId": "467ae238-8b8d-4065-e917-52c0ad8b9fe0"
      },
      "execution_count": null,
      "outputs": [
        {
          "output_type": "stream",
          "name": "stdout",
          "text": [
            "150\n",
            "266\n",
            "427\n",
            "3\n",
            "1\n",
            "0\n",
            "2\n",
            "0\n",
            "0\n",
            "0\n",
            "2\n",
            "0\n",
            "0\n"
          ]
        }
      ]
    },
    {
      "cell_type": "markdown",
      "source": [
        "# 나머지(3052)"
      ],
      "metadata": {
        "id": "Iw-ar4WHBePE"
      }
    },
    {
      "cell_type": "code",
      "source": [
        "A = int(input())\n",
        "B = int(input())\n",
        "C = int(input())\n",
        "D = int(input())\n",
        "E = int(input())\n",
        "F = int(input())\n",
        "G = int(input())\n",
        "H = int(input())\n",
        "I = int(input())\n",
        "J = int(input())\n",
        "\n",
        "list = [A, B, C, D, E, F, G, H, I, J]\n",
        "s1 = set([A%42])\n",
        "for i in list:\n",
        "  s1.add(i%42)\n",
        "\n",
        "print(len(s1))"
      ],
      "metadata": {
        "id": "FaNsP45yAoCD",
        "colab": {
          "base_uri": "https://localhost:8080/"
        },
        "outputId": "0f7ba6db-bc57-4a07-b471-f2506e3d327b"
      },
      "execution_count": null,
      "outputs": [
        {
          "output_type": "stream",
          "name": "stdout",
          "text": [
            "1\n",
            "2\n",
            "3\n",
            "4\n",
            "5\n",
            "6\n",
            "7\n",
            "8\n",
            "9\n",
            "10\n",
            "10\n"
          ]
        }
      ]
    },
    {
      "cell_type": "markdown",
      "source": [
        "# 평균(1546)"
      ],
      "metadata": {
        "id": "DSazLMl7_xVy"
      }
    },
    {
      "cell_type": "code",
      "source": [
        "N = int(input())\n",
        "\n",
        "\n",
        "score = input()\n",
        "list_score = []\n",
        "list_score.extend(score.split())\n",
        "\n",
        "list_score = [int(i) for i in list_score]\n",
        "\n",
        "M = max(list_score)\n",
        "\n",
        "new_score = []\n",
        "for s in list_score:\n",
        "  new_score.append((s/M)*100)\n",
        "\n",
        "print(sum(new_score)/N)"
      ],
      "metadata": {
        "colab": {
          "base_uri": "https://localhost:8080/"
        },
        "id": "vcNccaXO46cr",
        "outputId": "9576a280-f2c1-4244-8352-deb63c76ea11"
      },
      "execution_count": null,
      "outputs": [
        {
          "output_type": "stream",
          "name": "stdout",
          "text": [
            "9\n",
            "10 20 30 40 50 60 70 80 90\n",
            "55.55555555555556\n"
          ]
        }
      ]
    },
    {
      "cell_type": "markdown",
      "source": [
        "# OX퀴즈(8958)"
      ],
      "metadata": {
        "id": "7bc4LNahDQwO"
      }
    },
    {
      "cell_type": "code",
      "source": [
        "N = int(input())\n",
        "\n",
        "list = []\n",
        "for i in range(N):\n",
        "  list.append(input())\n",
        "\n",
        "score_list = []\n",
        "\n",
        "for i in list:\n",
        "  sum = 0\n",
        "  cnt = 0\n",
        "  for j in range(len(i)):\n",
        "    if j == 0:\n",
        "      if i[j] == 'O':\n",
        "        cnt = 1\n",
        "        sum += cnt\n",
        "      else:\n",
        "        cnt = 0\n",
        "    else:\n",
        "      if i[j-1] =='O':\n",
        "        if i[j] == 'O':\n",
        "          cnt += 1\n",
        "          sum += cnt\n",
        "      else:\n",
        "         if i[j] == 'O':\n",
        "           cnt = 1\n",
        "           sum += cnt\n",
        "         else:\n",
        "           cnt = 0\n",
        "  print(sum)"
      ],
      "metadata": {
        "colab": {
          "base_uri": "https://localhost:8080/"
        },
        "id": "F4R9cIsU4_G8",
        "outputId": "487c930c-5113-4d07-b508-f66a6f1863e7"
      },
      "execution_count": null,
      "outputs": [
        {
          "output_type": "stream",
          "name": "stdout",
          "text": [
            "1\n",
            "OXOXOXOXOXOXOX\n",
            "7\n"
          ]
        }
      ]
    },
    {
      "cell_type": "markdown",
      "source": [
        "# 평균은 넘겠지(4344)"
      ],
      "metadata": {
        "id": "tekYt4pNI1cL"
      }
    },
    {
      "cell_type": "code",
      "source": [
        "C = int(input())\n",
        "\n",
        "for _ in range(C):\n",
        "  list_num = list(map(int, input().split()))\n",
        "  mean = sum(list_num[1:])/list_num[0]\n",
        "  cnt = 0\n",
        "  \n",
        "  for i in list_num[1:]:\n",
        "    if i> mean:\n",
        "      cnt +=1\n",
        "  n = cnt / list_num[0] * 100\n",
        "  print(f'{n:.3f}%')"
      ],
      "metadata": {
        "colab": {
          "base_uri": "https://localhost:8080/",
          "height": 270
        },
        "id": "K0QzCZ_ZH6Ll",
        "outputId": "acefb213-38fe-468d-c1e0-3709dede138b"
      },
      "execution_count": null,
      "outputs": [
        {
          "name": "stdout",
          "output_type": "stream",
          "text": [
            "1\n",
            "3 70 90 81\n"
          ]
        },
        {
          "output_type": "error",
          "ename": "TypeError",
          "evalue": "ignored",
          "traceback": [
            "\u001b[0;31m---------------------------------------------------------------------------\u001b[0m",
            "\u001b[0;31mTypeError\u001b[0m                                 Traceback (most recent call last)",
            "\u001b[0;32m<ipython-input-67-87bd2fc9d10f>\u001b[0m in \u001b[0;36m<module>\u001b[0;34m()\u001b[0m\n\u001b[1;32m      2\u001b[0m \u001b[0;34m\u001b[0m\u001b[0m\n\u001b[1;32m      3\u001b[0m \u001b[0;32mfor\u001b[0m \u001b[0m_\u001b[0m \u001b[0;32min\u001b[0m \u001b[0mrange\u001b[0m\u001b[0;34m(\u001b[0m\u001b[0mC\u001b[0m\u001b[0;34m)\u001b[0m\u001b[0;34m:\u001b[0m\u001b[0;34m\u001b[0m\u001b[0;34m\u001b[0m\u001b[0m\n\u001b[0;32m----> 4\u001b[0;31m   \u001b[0mlist_num\u001b[0m \u001b[0;34m=\u001b[0m \u001b[0mlist\u001b[0m\u001b[0;34m(\u001b[0m\u001b[0mmap\u001b[0m\u001b[0;34m(\u001b[0m\u001b[0mint\u001b[0m\u001b[0;34m,\u001b[0m \u001b[0minput\u001b[0m\u001b[0;34m(\u001b[0m\u001b[0;34m)\u001b[0m\u001b[0;34m.\u001b[0m\u001b[0msplit\u001b[0m\u001b[0;34m(\u001b[0m\u001b[0;34m)\u001b[0m\u001b[0;34m)\u001b[0m\u001b[0;34m)\u001b[0m\u001b[0;34m\u001b[0m\u001b[0;34m\u001b[0m\u001b[0m\n\u001b[0m\u001b[1;32m      5\u001b[0m   \u001b[0mmean\u001b[0m \u001b[0;34m=\u001b[0m \u001b[0msum\u001b[0m\u001b[0;34m(\u001b[0m\u001b[0mlist_num\u001b[0m\u001b[0;34m[\u001b[0m\u001b[0;36m1\u001b[0m\u001b[0;34m:\u001b[0m\u001b[0;34m]\u001b[0m\u001b[0;34m)\u001b[0m\u001b[0;34m/\u001b[0m\u001b[0mlist_num\u001b[0m\u001b[0;34m[\u001b[0m\u001b[0;36m0\u001b[0m\u001b[0;34m]\u001b[0m\u001b[0;34m\u001b[0m\u001b[0;34m\u001b[0m\u001b[0m\n\u001b[1;32m      6\u001b[0m   \u001b[0mcnt\u001b[0m \u001b[0;34m=\u001b[0m \u001b[0;36m0\u001b[0m\u001b[0;34m\u001b[0m\u001b[0;34m\u001b[0m\u001b[0m\n",
            "\u001b[0;31mTypeError\u001b[0m: 'list' object is not callable"
          ]
        }
      ]
    },
    {
      "cell_type": "code",
      "source": [
        ""
      ],
      "metadata": {
        "id": "6kIDP5sOR8v4"
      },
      "execution_count": null,
      "outputs": []
    }
  ]
}