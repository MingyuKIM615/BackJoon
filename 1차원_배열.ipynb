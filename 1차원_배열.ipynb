{
  "nbformat": 4,
  "nbformat_minor": 0,
  "metadata": {
    "colab": {
      "name": " 1차원 배열.ipynb",
      "provenance": [],
      "collapsed_sections": [],
      "authorship_tag": "ABX9TyP2G3d5h+brOSUGh9YIHo+g",
      "include_colab_link": true
    },
    "kernelspec": {
      "name": "python3",
      "display_name": "Python 3"
    },
    "language_info": {
      "name": "python"
    }
  },
  "cells": [
    {
      "cell_type": "markdown",
      "metadata": {
        "id": "view-in-github",
        "colab_type": "text"
      },
      "source": [
        "<a href=\"https://colab.research.google.com/github/MingyuKIM615/BaekJoon/blob/master/1%EC%B0%A8%EC%9B%90_%EB%B0%B0%EC%97%B4.ipynb\" target=\"_parent\"><img src=\"https://colab.research.google.com/assets/colab-badge.svg\" alt=\"Open In Colab\"/></a>"
      ]
    },
    {
      "cell_type": "markdown",
      "source": [
        "# 최소, 최대(10818)"
      ],
      "metadata": {
        "id": "iH5vwX_TlBR_"
      }
    },
    {
      "cell_type": "code",
      "execution_count": 5,
      "metadata": {
        "colab": {
          "base_uri": "https://localhost:8080/"
        },
        "id": "kgUwKceGk-Jc",
        "outputId": "88ca0509-a9a2-4365-85ca-288ec5294916"
      },
      "outputs": [
        {
          "output_type": "stream",
          "name": "stdout",
          "text": [
            "5\n",
            "20 10 35 30 7\n",
            "7 35\n"
          ]
        }
      ],
      "source": [
        "N = int(input())\n",
        "\n",
        "num = input()\n",
        "\n",
        "num_list = []\n",
        "num_list.extend(num.split())\n",
        "\n",
        "list = []\n",
        "\n",
        "for i in num_list:\n",
        "  list.append(int(i))\n",
        "\n",
        "result = f'{min(list)} {max(list)}'\n",
        "print(result)"
      ]
    },
    {
      "cell_type": "markdown",
      "source": [
        "# 최댓값(2562)"
      ],
      "metadata": {
        "id": "DMFuO2U36oVr"
      }
    },
    {
      "cell_type": "code",
      "source": [
        "A = int(input())\n",
        "B = int(input())\n",
        "C = int(input())\n",
        "D = int(input())\n",
        "E = int(input())\n",
        "F = int(input())\n",
        "G = int(input())\n",
        "H = int(input())\n",
        "I = int(input())\n",
        "\n",
        "list = []\n",
        "\n",
        "list.extend([A, B, C, D, E, F, G, H, I])\n",
        "\n",
        "max = A\n",
        "cnt=1\n",
        "for i in range(9):\n",
        "  if list[i] > max:\n",
        "    max = list[i]\n",
        "    cnt = (i+1)\n",
        "\n",
        "print(max)\n",
        "print(cnt)"
      ],
      "metadata": {
        "colab": {
          "base_uri": "https://localhost:8080/"
        },
        "id": "eqlewc-DmteF",
        "outputId": "cf596325-911a-49df-b7a0-2ff2d97d78bd"
      },
      "execution_count": 10,
      "outputs": [
        {
          "output_type": "stream",
          "name": "stdout",
          "text": [
            "3\n",
            "29\n",
            "38\n",
            "12\n",
            "57\n",
            "74\n",
            "40\n",
            "85\n",
            "61\n",
            "85\n",
            "8\n"
          ]
        }
      ]
    },
    {
      "cell_type": "markdown",
      "source": [
        "# 숫자의 개수(2577)"
      ],
      "metadata": {
        "id": "zEEzn5ddAhTy"
      }
    },
    {
      "cell_type": "code",
      "source": [
        "A = int(input())\n",
        "B = int(input())\n",
        "C = int(input())\n",
        "x = A * B * C\n",
        "cnt_0 = 0\n",
        "cnt_1 = 0\n",
        "cnt_2 = 0\n",
        "cnt_3 = 0\n",
        "cnt_4 = 0\n",
        "cnt_5 = 0\n",
        "cnt_6 = 0\n",
        "cnt_7 = 0\n",
        "cnt_8 = 0\n",
        "cnt_9 = 0\n",
        "while x >= 1:\n",
        "    if x % 10 == 0:\n",
        "        cnt_0 += 1\n",
        "    elif x % 10 == 1:\n",
        "        cnt_1 += 1\n",
        "    elif x % 10 == 2:\n",
        "        cnt_2 += 1\n",
        "    elif x % 10 == 3:\n",
        "        cnt_3 += 1\n",
        "    elif x % 10 == 4:\n",
        "        cnt_4 += 1\n",
        "    elif x % 10 == 5:\n",
        "        cnt_5 += 1\n",
        "    elif x % 10 == 6:\n",
        "        cnt_6 += 1\n",
        "    elif x % 10 == 7:\n",
        "        cnt_7 += 1\n",
        "    elif x % 10 == 8:\n",
        "        cnt_8 += 1\n",
        "    else:\n",
        "        cnt_9 += 1\n",
        "    x = int(x / 10)\n",
        "\n",
        "list = [cnt_0, cnt_1, cnt_2, cnt_3, cnt_4, cnt_5, cnt_6, cnt_7, cnt_8, cnt_9]\n",
        "for i in list:\n",
        "    print(i)"
      ],
      "metadata": {
        "colab": {
          "base_uri": "https://localhost:8080/"
        },
        "id": "E1HOuS5W9eXE",
        "outputId": "467ae238-8b8d-4065-e917-52c0ad8b9fe0"
      },
      "execution_count": 11,
      "outputs": [
        {
          "output_type": "stream",
          "name": "stdout",
          "text": [
            "150\n",
            "266\n",
            "427\n",
            "3\n",
            "1\n",
            "0\n",
            "2\n",
            "0\n",
            "0\n",
            "0\n",
            "2\n",
            "0\n",
            "0\n"
          ]
        }
      ]
    },
    {
      "cell_type": "markdown",
      "source": [
        "# 나머지(3052)"
      ],
      "metadata": {
        "id": "Iw-ar4WHBePE"
      }
    },
    {
      "cell_type": "code",
      "source": [
        ""
      ],
      "metadata": {
        "id": "FaNsP45yAoCD"
      },
      "execution_count": null,
      "outputs": []
    }
  ]
}