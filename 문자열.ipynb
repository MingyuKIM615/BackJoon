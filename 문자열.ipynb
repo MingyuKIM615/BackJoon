{
  "nbformat": 4,
  "nbformat_minor": 0,
  "metadata": {
    "colab": {
      "name": "문자열.ipynb",
      "provenance": [],
      "collapsed_sections": [],
      "authorship_tag": "ABX9TyOyfO3jBge9XrMyXUm6jwu1",
      "include_colab_link": true
    },
    "kernelspec": {
      "name": "python3",
      "display_name": "Python 3"
    },
    "language_info": {
      "name": "python"
    }
  },
  "cells": [
    {
      "cell_type": "markdown",
      "metadata": {
        "id": "view-in-github",
        "colab_type": "text"
      },
      "source": [
        "<a href=\"https://colab.research.google.com/github/MingyuKIM615/BaekJoon/blob/master/%EB%AC%B8%EC%9E%90%EC%97%B4.ipynb\" target=\"_parent\"><img src=\"https://colab.research.google.com/assets/colab-badge.svg\" alt=\"Open In Colab\"/></a>"
      ]
    },
    {
      "cell_type": "markdown",
      "source": [
        "# 아스키 코드(11654)"
      ],
      "metadata": {
        "id": "LZvJkJxDKwr-"
      }
    },
    {
      "cell_type": "code",
      "execution_count": 11,
      "metadata": {
        "colab": {
          "base_uri": "https://localhost:8080/"
        },
        "id": "NL8ElJ13Ku3v",
        "outputId": "0833747e-38f6-4e02-b4dc-6a894fa643dd"
      },
      "outputs": [
        {
          "output_type": "stream",
          "name": "stdout",
          "text": [
            "A\n",
            "65\n"
          ]
        }
      ],
      "source": [
        "N = input()\n",
        "\n",
        "print(ord(N))"
      ]
    },
    {
      "cell_type": "markdown",
      "source": [
        "# 숫자의 연합(11720)"
      ],
      "metadata": {
        "id": "_WYXpfBdLtyY"
      }
    },
    {
      "cell_type": "code",
      "source": [
        "N1 = int(input())\n",
        "N2 = input()\n",
        "\n",
        "sum = 0\n",
        "for i in N2:\n",
        "  sum += int(i)\n",
        "\n",
        "print(sum)"
      ],
      "metadata": {
        "colab": {
          "base_uri": "https://localhost:8080/"
        },
        "id": "PB0rxvYiK-H6",
        "outputId": "ab5e8bd5-ff47-41a6-a1f3-5a7ff7dea4e3"
      },
      "execution_count": 15,
      "outputs": [
        {
          "output_type": "stream",
          "name": "stdout",
          "text": [
            "11\n",
            "10987654321\n",
            "46\n"
          ]
        }
      ]
    },
    {
      "cell_type": "markdown",
      "source": [
        "# 알파벳 찾기(10809)"
      ],
      "metadata": {
        "id": "BSTrcPcMMhRn"
      }
    },
    {
      "cell_type": "code",
      "source": [
        "S = input()\n",
        "\n",
        "S = S.lower()\n",
        "result = {}\n",
        "for i in range(97, 123):\n",
        "  result[chr(i)] = -1\n",
        "for j in range(len(S)):\n",
        "  if result[S[j]] == -1:\n",
        "    result[S[j]] = j\n",
        "\n",
        "for k, v in result.items():\n",
        "  if k == 'z':\n",
        "    print(v)  \n",
        "  else:\n",
        "    print(v, end=' ')\n",
        "  "
      ],
      "metadata": {
        "colab": {
          "base_uri": "https://localhost:8080/"
        },
        "id": "qhGS_VEKMBk0",
        "outputId": "1a585292-5c3d-4c3d-d325-fb69442c4de6"
      },
      "execution_count": 38,
      "outputs": [
        {
          "output_type": "stream",
          "name": "stdout",
          "text": [
            "baekjoon\n",
            "1 0 -1 -1 2 -1 -1 -1 -1 4 3 -1 -1 7 5 -1 -1 -1 -1 -1 -1 -1 -1 -1 -1 -1\n"
          ]
        }
      ]
    },
    {
      "cell_type": "markdown",
      "source": [
        "# 문자열 반복(2675)"
      ],
      "metadata": {
        "id": "J0J5ZL33SM-D"
      }
    },
    {
      "cell_type": "code",
      "source": [
        "T = int(input())\n",
        "\n",
        "for _ in range(T):\n",
        "  R, S = input().split()\n",
        "  R = int(R)\n",
        "  for j in S:\n",
        "    for _ in range(R):\n",
        "      print(j, end='')\n",
        "\n",
        "  print()"
      ],
      "metadata": {
        "colab": {
          "base_uri": "https://localhost:8080/"
        },
        "id": "v-3s2KyrPNHK",
        "outputId": "567fb4b8-5115-450e-a262-1f5f50513b6f"
      },
      "execution_count": 39,
      "outputs": [
        {
          "output_type": "stream",
          "name": "stdout",
          "text": [
            "2\n",
            "3 ABC\n",
            "AAABBBCCC\n",
            "5 /HTP\n",
            "/////HHHHHTTTTTPPPPP\n"
          ]
        }
      ]
    },
    {
      "cell_type": "markdown",
      "source": [
        "# 단어 공부(1157)"
      ],
      "metadata": {
        "id": "tddS2qTCTdH2"
      }
    },
    {
      "cell_type": "code",
      "source": [
        "S = input()\n",
        "\n",
        "S = S.upper()\n",
        "\n",
        "result = {}\n",
        "\n",
        "for i in S:\n",
        "  try:\n",
        "    result[i] +=1\n",
        "  except:\n",
        "    result[i] =1\n",
        "\n",
        "m = max(result.values())\n",
        "\n",
        "ans = ''\n",
        "for k, v in result.items():\n",
        "  if v == m:\n",
        "    ans += k\n",
        "\n",
        "if len(ans) >1:\n",
        "  print('?')\n",
        "else:\n",
        "  print(ans)"
      ],
      "metadata": {
        "colab": {
          "base_uri": "https://localhost:8080/"
        },
        "id": "Iww8apbbTSvw",
        "outputId": "37f00199-292e-413a-9fd2-d35746eee943"
      },
      "execution_count": 6,
      "outputs": [
        {
          "output_type": "stream",
          "name": "stdout",
          "text": [
            "Mississipi\n",
            "?\n"
          ]
        }
      ]
    },
    {
      "cell_type": "markdown",
      "source": [
        "# 단어의 개수(1152)"
      ],
      "metadata": {
        "id": "s62QGwG6E4a8"
      }
    },
    {
      "cell_type": "code",
      "source": [
        "list_word = list(input().split())\n",
        "\n",
        "print(len(list_word))"
      ],
      "metadata": {
        "colab": {
          "base_uri": "https://localhost:8080/"
        },
        "id": "4zOnNLKmTxUM",
        "outputId": "4334863a-4c4a-4a7b-a39e-a6fdef0177aa"
      },
      "execution_count": 7,
      "outputs": [
        {
          "output_type": "stream",
          "name": "stdout",
          "text": [
            "The Curious Case of Benjamin Button\n",
            "6\n"
          ]
        }
      ]
    },
    {
      "cell_type": "markdown",
      "source": [
        "# 상수(2908)"
      ],
      "metadata": {
        "id": "YDR0z1xoFfPy"
      }
    },
    {
      "cell_type": "code",
      "source": [
        "list_number = list(input().split())\n",
        "A = ''\n",
        "B = ''\n",
        "\n",
        "for i in range(len(list_number)):\n",
        "  k = list_number[i]\n",
        "  for j in range(len(k)-1,-1,-1):\n",
        "    if i == 0:\n",
        "      A += k[j]\n",
        "    else:\n",
        "      B += k[j]\n",
        "\n",
        "A = int(A)\n",
        "B = int(B)\n",
        "if A > B:\n",
        "  print(A)\n",
        "else:\n",
        "  print(B)"
      ],
      "metadata": {
        "colab": {
          "base_uri": "https://localhost:8080/"
        },
        "id": "VDcVtaW1FKuy",
        "outputId": "4c2d8657-77cd-441c-aafa-9dd636f99f30"
      },
      "execution_count": 12,
      "outputs": [
        {
          "output_type": "stream",
          "name": "stdout",
          "text": [
            "839 237\n",
            "938\n"
          ]
        }
      ]
    },
    {
      "cell_type": "markdown",
      "source": [
        "# 다이얼(5622)"
      ],
      "metadata": {
        "id": "EvkYrg6SHK3Y"
      }
    },
    {
      "cell_type": "code",
      "source": [
        "D = input()\n",
        "\n",
        "time = 0\n",
        "\n",
        "for i in D:\n",
        "  if ord(i) >= 65 and ord(i) <= 67:\n",
        "    time += 3\n",
        "  elif ord(i) >= 68 and ord(i) <= 70:\n",
        "    time += 4\n",
        "  elif ord(i) >= 71 and ord(i) <= 73:\n",
        "    time += 5\n",
        "  elif ord(i) >= 74 and ord(i) <= 76:\n",
        "    time += 6\n",
        "  elif ord(i) >= 77 and ord(i) <= 79:\n",
        "    time += 7\n",
        "  elif ord(i) >= 80 and ord(i) <= 83:\n",
        "    time += 8\n",
        "  elif ord(i) >= 84 and ord(i) <= 86:\n",
        "    time += 9\n",
        "  elif ord(i) >= 87 and ord(i) <= 90:\n",
        "    time += 10\n",
        "print(time)"
      ],
      "metadata": {
        "colab": {
          "base_uri": "https://localhost:8080/"
        },
        "id": "o5sYMZXZGMVJ",
        "outputId": "45a4dce3-aca6-402c-d636-ade7d5389b3a"
      },
      "execution_count": 17,
      "outputs": [
        {
          "output_type": "stream",
          "name": "stdout",
          "text": [
            "UNUCIC\n",
            "36\n"
          ]
        }
      ]
    },
    {
      "cell_type": "markdown",
      "source": [
        "# 크로아티아 알파벳(2941)"
      ],
      "metadata": {
        "id": "n4W_7Rr4LVcY"
      }
    },
    {
      "cell_type": "code",
      "source": [
        "S = input()\n",
        "\n",
        "c = ['c=', 'c-', 'dz=', 'd-', 'lj','nj','s=', 'z=']\n",
        "\n",
        "for i in c:\n",
        "  S = S.replace(i, 't')\n",
        "print(len(S))"
      ],
      "metadata": {
        "colab": {
          "base_uri": "https://localhost:8080/"
        },
        "id": "aXVpbEiVJRjt",
        "outputId": "305c9913-708a-418c-e8be-97129d797764"
      },
      "execution_count": 66,
      "outputs": [
        {
          "output_type": "stream",
          "name": "stdout",
          "text": [
            "ljes=njak\n",
            "6\n"
          ]
        }
      ]
    },
    {
      "cell_type": "markdown",
      "source": [
        "# 그룹 단어 체커(1316)"
      ],
      "metadata": {
        "id": "HQaQdgMFYCr_"
      }
    },
    {
      "cell_type": "code",
      "source": [
        "N = int(input())\n",
        "\n",
        "cnt = 0\n",
        "\n",
        "for _ in range(N):\n",
        "  word = input()\n",
        "  for i in range(len(word)):\n",
        "    if i < len(word)-1:\n",
        "      if word[i] == word[i+1]:\n",
        "        pass\n",
        "      elif word[i] in word[i+1:]:\n",
        "        break\n",
        "    else:\n",
        "      cnt+=1\n",
        "\n",
        "print(cnt)"
      ],
      "metadata": {
        "colab": {
          "base_uri": "https://localhost:8080/"
        },
        "id": "nG0SMOi0ORNc",
        "outputId": "036d6adb-4168-44f8-b399-f26e22f2863d"
      },
      "execution_count": 73,
      "outputs": [
        {
          "output_type": "stream",
          "name": "stdout",
          "text": [
            "2\n",
            "aba\n",
            "bvb\n",
            "0\n"
          ]
        }
      ]
    },
    {
      "cell_type": "code",
      "source": [
        "for i in range(5):\n",
        "  if True:\n",
        "    for k in range(3):\n",
        "      if k == 2:\n",
        "        break\n",
        "      print(k)"
      ],
      "metadata": {
        "colab": {
          "base_uri": "https://localhost:8080/"
        },
        "id": "b_bbXQG2lxna",
        "outputId": "e76bbcec-4c86-4a4f-d7c4-2c0a3644c28e"
      },
      "execution_count": 76,
      "outputs": [
        {
          "output_type": "stream",
          "name": "stdout",
          "text": [
            "0\n",
            "1\n",
            "0\n",
            "1\n",
            "0\n",
            "1\n",
            "0\n",
            "1\n",
            "0\n",
            "1\n"
          ]
        }
      ]
    },
    {
      "cell_type": "code",
      "source": [
        ""
      ],
      "metadata": {
        "id": "jkAawbLzndSl"
      },
      "execution_count": null,
      "outputs": []
    }
  ]
}